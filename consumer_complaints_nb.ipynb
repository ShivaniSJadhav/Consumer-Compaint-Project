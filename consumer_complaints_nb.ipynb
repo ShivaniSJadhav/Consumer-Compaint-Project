{
 "cells": [
  {
   "cell_type": "code",
   "execution_count": 8,
   "metadata": {},
   "outputs": [],
   "source": [
    "import warnings\n",
    "warnings.filterwarnings('ignore')\n",
    "import pandas as pd\n",
    "import math\n",
    "from sklearn.model_selection import train_test_split,KFold\n",
    "import numpy as np\n",
    "import os"
   ]
  },
  {
   "cell_type": "code",
   "execution_count": 2,
   "metadata": {},
   "outputs": [],
   "source": [
    "os.chdir(\"D:/__Riz__/Edvancer/ML_Python/$$___Python - Project--1___$$\")"
   ]
  },
  {
   "cell_type": "code",
   "execution_count": 9,
   "metadata": {},
   "outputs": [
    {
     "ename": "FileNotFoundError",
     "evalue": "[Errno 2] File \\Users\\shiva\\Downloads\\P1 Data\\Consumer_Complaints_train.csv does not exist: '\\\\Users\\\\shiva\\\\Downloads\\\\P1 Data\\\\Consumer_Complaints_train.csv'",
     "output_type": "error",
     "traceback": [
      "\u001b[1;31m---------------------------------------------------------------------------\u001b[0m",
      "\u001b[1;31mFileNotFoundError\u001b[0m                         Traceback (most recent call last)",
      "\u001b[1;32m<ipython-input-9-d99400830b8e>\u001b[0m in \u001b[0;36m<module>\u001b[1;34m\u001b[0m\n\u001b[0;32m      1\u001b[0m \u001b[0mdatafile_train\u001b[0m\u001b[1;33m=\u001b[0m\u001b[1;34mr\"\\Users\\shiva\\Downloads\\P1 Data\\Consumer_Complaints_train.csv\"\u001b[0m\u001b[1;33m\u001b[0m\u001b[1;33m\u001b[0m\u001b[0m\n\u001b[0;32m      2\u001b[0m \u001b[0mdatafile_test\u001b[0m\u001b[1;33m=\u001b[0m\u001b[1;34mr\"\\Users\\shiva\\Downloads\\P1 Data\\Consumer_Complaints_test_share.csv\"\u001b[0m\u001b[1;33m\u001b[0m\u001b[1;33m\u001b[0m\u001b[0m\n\u001b[1;32m----> 3\u001b[1;33m \u001b[0mcc_train\u001b[0m\u001b[1;33m=\u001b[0m\u001b[0mpd\u001b[0m\u001b[1;33m.\u001b[0m\u001b[0mread_csv\u001b[0m\u001b[1;33m(\u001b[0m\u001b[0mdatafile_train\u001b[0m\u001b[1;33m)\u001b[0m\u001b[1;33m\u001b[0m\u001b[1;33m\u001b[0m\u001b[0m\n\u001b[0m\u001b[0;32m      4\u001b[0m \u001b[0mcc_test\u001b[0m\u001b[1;33m=\u001b[0m\u001b[0mpd\u001b[0m\u001b[1;33m.\u001b[0m\u001b[0mread_csv\u001b[0m\u001b[1;33m(\u001b[0m\u001b[0mdatafile_test\u001b[0m\u001b[1;33m)\u001b[0m\u001b[1;33m\u001b[0m\u001b[1;33m\u001b[0m\u001b[0m\n",
      "\u001b[1;32m~\\.ipython\\profile_default\\db\\lib\\site-packages\\pandas\\io\\parsers.py\u001b[0m in \u001b[0;36mparser_f\u001b[1;34m(filepath_or_buffer, sep, delimiter, header, names, index_col, usecols, squeeze, prefix, mangle_dupe_cols, dtype, engine, converters, true_values, false_values, skipinitialspace, skiprows, skipfooter, nrows, na_values, keep_default_na, na_filter, verbose, skip_blank_lines, parse_dates, infer_datetime_format, keep_date_col, date_parser, dayfirst, cache_dates, iterator, chunksize, compression, thousands, decimal, lineterminator, quotechar, quoting, doublequote, escapechar, comment, encoding, dialect, error_bad_lines, warn_bad_lines, delim_whitespace, low_memory, memory_map, float_precision)\u001b[0m\n\u001b[0;32m    674\u001b[0m         )\n\u001b[0;32m    675\u001b[0m \u001b[1;33m\u001b[0m\u001b[0m\n\u001b[1;32m--> 676\u001b[1;33m         \u001b[1;32mreturn\u001b[0m \u001b[0m_read\u001b[0m\u001b[1;33m(\u001b[0m\u001b[0mfilepath_or_buffer\u001b[0m\u001b[1;33m,\u001b[0m \u001b[0mkwds\u001b[0m\u001b[1;33m)\u001b[0m\u001b[1;33m\u001b[0m\u001b[1;33m\u001b[0m\u001b[0m\n\u001b[0m\u001b[0;32m    677\u001b[0m \u001b[1;33m\u001b[0m\u001b[0m\n\u001b[0;32m    678\u001b[0m     \u001b[0mparser_f\u001b[0m\u001b[1;33m.\u001b[0m\u001b[0m__name__\u001b[0m \u001b[1;33m=\u001b[0m \u001b[0mname\u001b[0m\u001b[1;33m\u001b[0m\u001b[1;33m\u001b[0m\u001b[0m\n",
      "\u001b[1;32m~\\.ipython\\profile_default\\db\\lib\\site-packages\\pandas\\io\\parsers.py\u001b[0m in \u001b[0;36m_read\u001b[1;34m(filepath_or_buffer, kwds)\u001b[0m\n\u001b[0;32m    446\u001b[0m \u001b[1;33m\u001b[0m\u001b[0m\n\u001b[0;32m    447\u001b[0m     \u001b[1;31m# Create the parser.\u001b[0m\u001b[1;33m\u001b[0m\u001b[1;33m\u001b[0m\u001b[1;33m\u001b[0m\u001b[0m\n\u001b[1;32m--> 448\u001b[1;33m     \u001b[0mparser\u001b[0m \u001b[1;33m=\u001b[0m \u001b[0mTextFileReader\u001b[0m\u001b[1;33m(\u001b[0m\u001b[0mfp_or_buf\u001b[0m\u001b[1;33m,\u001b[0m \u001b[1;33m**\u001b[0m\u001b[0mkwds\u001b[0m\u001b[1;33m)\u001b[0m\u001b[1;33m\u001b[0m\u001b[1;33m\u001b[0m\u001b[0m\n\u001b[0m\u001b[0;32m    449\u001b[0m \u001b[1;33m\u001b[0m\u001b[0m\n\u001b[0;32m    450\u001b[0m     \u001b[1;32mif\u001b[0m \u001b[0mchunksize\u001b[0m \u001b[1;32mor\u001b[0m \u001b[0miterator\u001b[0m\u001b[1;33m:\u001b[0m\u001b[1;33m\u001b[0m\u001b[1;33m\u001b[0m\u001b[0m\n",
      "\u001b[1;32m~\\.ipython\\profile_default\\db\\lib\\site-packages\\pandas\\io\\parsers.py\u001b[0m in \u001b[0;36m__init__\u001b[1;34m(self, f, engine, **kwds)\u001b[0m\n\u001b[0;32m    878\u001b[0m             \u001b[0mself\u001b[0m\u001b[1;33m.\u001b[0m\u001b[0moptions\u001b[0m\u001b[1;33m[\u001b[0m\u001b[1;34m\"has_index_names\"\u001b[0m\u001b[1;33m]\u001b[0m \u001b[1;33m=\u001b[0m \u001b[0mkwds\u001b[0m\u001b[1;33m[\u001b[0m\u001b[1;34m\"has_index_names\"\u001b[0m\u001b[1;33m]\u001b[0m\u001b[1;33m\u001b[0m\u001b[1;33m\u001b[0m\u001b[0m\n\u001b[0;32m    879\u001b[0m \u001b[1;33m\u001b[0m\u001b[0m\n\u001b[1;32m--> 880\u001b[1;33m         \u001b[0mself\u001b[0m\u001b[1;33m.\u001b[0m\u001b[0m_make_engine\u001b[0m\u001b[1;33m(\u001b[0m\u001b[0mself\u001b[0m\u001b[1;33m.\u001b[0m\u001b[0mengine\u001b[0m\u001b[1;33m)\u001b[0m\u001b[1;33m\u001b[0m\u001b[1;33m\u001b[0m\u001b[0m\n\u001b[0m\u001b[0;32m    881\u001b[0m \u001b[1;33m\u001b[0m\u001b[0m\n\u001b[0;32m    882\u001b[0m     \u001b[1;32mdef\u001b[0m \u001b[0mclose\u001b[0m\u001b[1;33m(\u001b[0m\u001b[0mself\u001b[0m\u001b[1;33m)\u001b[0m\u001b[1;33m:\u001b[0m\u001b[1;33m\u001b[0m\u001b[1;33m\u001b[0m\u001b[0m\n",
      "\u001b[1;32m~\\.ipython\\profile_default\\db\\lib\\site-packages\\pandas\\io\\parsers.py\u001b[0m in \u001b[0;36m_make_engine\u001b[1;34m(self, engine)\u001b[0m\n\u001b[0;32m   1112\u001b[0m     \u001b[1;32mdef\u001b[0m \u001b[0m_make_engine\u001b[0m\u001b[1;33m(\u001b[0m\u001b[0mself\u001b[0m\u001b[1;33m,\u001b[0m \u001b[0mengine\u001b[0m\u001b[1;33m=\u001b[0m\u001b[1;34m\"c\"\u001b[0m\u001b[1;33m)\u001b[0m\u001b[1;33m:\u001b[0m\u001b[1;33m\u001b[0m\u001b[1;33m\u001b[0m\u001b[0m\n\u001b[0;32m   1113\u001b[0m         \u001b[1;32mif\u001b[0m \u001b[0mengine\u001b[0m \u001b[1;33m==\u001b[0m \u001b[1;34m\"c\"\u001b[0m\u001b[1;33m:\u001b[0m\u001b[1;33m\u001b[0m\u001b[1;33m\u001b[0m\u001b[0m\n\u001b[1;32m-> 1114\u001b[1;33m             \u001b[0mself\u001b[0m\u001b[1;33m.\u001b[0m\u001b[0m_engine\u001b[0m \u001b[1;33m=\u001b[0m \u001b[0mCParserWrapper\u001b[0m\u001b[1;33m(\u001b[0m\u001b[0mself\u001b[0m\u001b[1;33m.\u001b[0m\u001b[0mf\u001b[0m\u001b[1;33m,\u001b[0m \u001b[1;33m**\u001b[0m\u001b[0mself\u001b[0m\u001b[1;33m.\u001b[0m\u001b[0moptions\u001b[0m\u001b[1;33m)\u001b[0m\u001b[1;33m\u001b[0m\u001b[1;33m\u001b[0m\u001b[0m\n\u001b[0m\u001b[0;32m   1115\u001b[0m         \u001b[1;32melse\u001b[0m\u001b[1;33m:\u001b[0m\u001b[1;33m\u001b[0m\u001b[1;33m\u001b[0m\u001b[0m\n\u001b[0;32m   1116\u001b[0m             \u001b[1;32mif\u001b[0m \u001b[0mengine\u001b[0m \u001b[1;33m==\u001b[0m \u001b[1;34m\"python\"\u001b[0m\u001b[1;33m:\u001b[0m\u001b[1;33m\u001b[0m\u001b[1;33m\u001b[0m\u001b[0m\n",
      "\u001b[1;32m~\\.ipython\\profile_default\\db\\lib\\site-packages\\pandas\\io\\parsers.py\u001b[0m in \u001b[0;36m__init__\u001b[1;34m(self, src, **kwds)\u001b[0m\n\u001b[0;32m   1889\u001b[0m         \u001b[0mkwds\u001b[0m\u001b[1;33m[\u001b[0m\u001b[1;34m\"usecols\"\u001b[0m\u001b[1;33m]\u001b[0m \u001b[1;33m=\u001b[0m \u001b[0mself\u001b[0m\u001b[1;33m.\u001b[0m\u001b[0musecols\u001b[0m\u001b[1;33m\u001b[0m\u001b[1;33m\u001b[0m\u001b[0m\n\u001b[0;32m   1890\u001b[0m \u001b[1;33m\u001b[0m\u001b[0m\n\u001b[1;32m-> 1891\u001b[1;33m         \u001b[0mself\u001b[0m\u001b[1;33m.\u001b[0m\u001b[0m_reader\u001b[0m \u001b[1;33m=\u001b[0m \u001b[0mparsers\u001b[0m\u001b[1;33m.\u001b[0m\u001b[0mTextReader\u001b[0m\u001b[1;33m(\u001b[0m\u001b[0msrc\u001b[0m\u001b[1;33m,\u001b[0m \u001b[1;33m**\u001b[0m\u001b[0mkwds\u001b[0m\u001b[1;33m)\u001b[0m\u001b[1;33m\u001b[0m\u001b[1;33m\u001b[0m\u001b[0m\n\u001b[0m\u001b[0;32m   1892\u001b[0m         \u001b[0mself\u001b[0m\u001b[1;33m.\u001b[0m\u001b[0munnamed_cols\u001b[0m \u001b[1;33m=\u001b[0m \u001b[0mself\u001b[0m\u001b[1;33m.\u001b[0m\u001b[0m_reader\u001b[0m\u001b[1;33m.\u001b[0m\u001b[0munnamed_cols\u001b[0m\u001b[1;33m\u001b[0m\u001b[1;33m\u001b[0m\u001b[0m\n\u001b[0;32m   1893\u001b[0m \u001b[1;33m\u001b[0m\u001b[0m\n",
      "\u001b[1;32mpandas\\_libs\\parsers.pyx\u001b[0m in \u001b[0;36mpandas._libs.parsers.TextReader.__cinit__\u001b[1;34m()\u001b[0m\n",
      "\u001b[1;32mpandas\\_libs\\parsers.pyx\u001b[0m in \u001b[0;36mpandas._libs.parsers.TextReader._setup_parser_source\u001b[1;34m()\u001b[0m\n",
      "\u001b[1;31mFileNotFoundError\u001b[0m: [Errno 2] File \\Users\\shiva\\Downloads\\P1 Data\\Consumer_Complaints_train.csv does not exist: '\\\\Users\\\\shiva\\\\Downloads\\\\P1 Data\\\\Consumer_Complaints_train.csv'"
     ]
    }
   ],
   "source": [
    "datafile_train=r\"\\Users\\shiva\\Downloads\\P1 Data\\Consumer_Complaints_train.csv\"\n",
    "datafile_test=r\"\\Users\\shiva\\Downloads\\P1 Data\\Consumer_Complaints_test_share.csv\"\n",
    "cc_train=pd.read_csv(datafile_train)\n",
    "cc_test=pd.read_csv(datafile_test)"
   ]
  },
  {
   "cell_type": "code",
   "execution_count": 6,
   "metadata": {},
   "outputs": [
    {
     "ename": "FileNotFoundError",
     "evalue": "[Errno 2] File Consumer_Complaints_train.csv does not exist: 'Consumer_Complaints_train.csv'",
     "output_type": "error",
     "traceback": [
      "\u001b[1;31m---------------------------------------------------------------------------\u001b[0m",
      "\u001b[1;31mFileNotFoundError\u001b[0m                         Traceback (most recent call last)",
      "\u001b[1;32m<ipython-input-6-befa60744077>\u001b[0m in \u001b[0;36m<module>\u001b[1;34m\u001b[0m\n\u001b[1;32m----> 1\u001b[1;33m \u001b[0mcc_train\u001b[0m \u001b[1;33m=\u001b[0m \u001b[0mpd\u001b[0m\u001b[1;33m.\u001b[0m\u001b[0mread_csv\u001b[0m\u001b[1;33m(\u001b[0m\u001b[1;34m\"Consumer_Complaints_train.csv\"\u001b[0m\u001b[1;33m)\u001b[0m\u001b[1;33m\u001b[0m\u001b[1;33m\u001b[0m\u001b[0m\n\u001b[0m\u001b[0;32m      2\u001b[0m \u001b[0mcc_test\u001b[0m \u001b[1;33m=\u001b[0m \u001b[0mpd\u001b[0m\u001b[1;33m.\u001b[0m\u001b[0mread_csv\u001b[0m\u001b[1;33m(\u001b[0m\u001b[1;34m\"Consumer_Complaints_test_share.csv\"\u001b[0m\u001b[1;33m)\u001b[0m\u001b[1;33m\u001b[0m\u001b[1;33m\u001b[0m\u001b[0m\n",
      "\u001b[1;32m~\\.ipython\\profile_default\\db\\lib\\site-packages\\pandas\\io\\parsers.py\u001b[0m in \u001b[0;36mparser_f\u001b[1;34m(filepath_or_buffer, sep, delimiter, header, names, index_col, usecols, squeeze, prefix, mangle_dupe_cols, dtype, engine, converters, true_values, false_values, skipinitialspace, skiprows, skipfooter, nrows, na_values, keep_default_na, na_filter, verbose, skip_blank_lines, parse_dates, infer_datetime_format, keep_date_col, date_parser, dayfirst, cache_dates, iterator, chunksize, compression, thousands, decimal, lineterminator, quotechar, quoting, doublequote, escapechar, comment, encoding, dialect, error_bad_lines, warn_bad_lines, delim_whitespace, low_memory, memory_map, float_precision)\u001b[0m\n\u001b[0;32m    674\u001b[0m         )\n\u001b[0;32m    675\u001b[0m \u001b[1;33m\u001b[0m\u001b[0m\n\u001b[1;32m--> 676\u001b[1;33m         \u001b[1;32mreturn\u001b[0m \u001b[0m_read\u001b[0m\u001b[1;33m(\u001b[0m\u001b[0mfilepath_or_buffer\u001b[0m\u001b[1;33m,\u001b[0m \u001b[0mkwds\u001b[0m\u001b[1;33m)\u001b[0m\u001b[1;33m\u001b[0m\u001b[1;33m\u001b[0m\u001b[0m\n\u001b[0m\u001b[0;32m    677\u001b[0m \u001b[1;33m\u001b[0m\u001b[0m\n\u001b[0;32m    678\u001b[0m     \u001b[0mparser_f\u001b[0m\u001b[1;33m.\u001b[0m\u001b[0m__name__\u001b[0m \u001b[1;33m=\u001b[0m \u001b[0mname\u001b[0m\u001b[1;33m\u001b[0m\u001b[1;33m\u001b[0m\u001b[0m\n",
      "\u001b[1;32m~\\.ipython\\profile_default\\db\\lib\\site-packages\\pandas\\io\\parsers.py\u001b[0m in \u001b[0;36m_read\u001b[1;34m(filepath_or_buffer, kwds)\u001b[0m\n\u001b[0;32m    446\u001b[0m \u001b[1;33m\u001b[0m\u001b[0m\n\u001b[0;32m    447\u001b[0m     \u001b[1;31m# Create the parser.\u001b[0m\u001b[1;33m\u001b[0m\u001b[1;33m\u001b[0m\u001b[1;33m\u001b[0m\u001b[0m\n\u001b[1;32m--> 448\u001b[1;33m     \u001b[0mparser\u001b[0m \u001b[1;33m=\u001b[0m \u001b[0mTextFileReader\u001b[0m\u001b[1;33m(\u001b[0m\u001b[0mfp_or_buf\u001b[0m\u001b[1;33m,\u001b[0m \u001b[1;33m**\u001b[0m\u001b[0mkwds\u001b[0m\u001b[1;33m)\u001b[0m\u001b[1;33m\u001b[0m\u001b[1;33m\u001b[0m\u001b[0m\n\u001b[0m\u001b[0;32m    449\u001b[0m \u001b[1;33m\u001b[0m\u001b[0m\n\u001b[0;32m    450\u001b[0m     \u001b[1;32mif\u001b[0m \u001b[0mchunksize\u001b[0m \u001b[1;32mor\u001b[0m \u001b[0miterator\u001b[0m\u001b[1;33m:\u001b[0m\u001b[1;33m\u001b[0m\u001b[1;33m\u001b[0m\u001b[0m\n",
      "\u001b[1;32m~\\.ipython\\profile_default\\db\\lib\\site-packages\\pandas\\io\\parsers.py\u001b[0m in \u001b[0;36m__init__\u001b[1;34m(self, f, engine, **kwds)\u001b[0m\n\u001b[0;32m    878\u001b[0m             \u001b[0mself\u001b[0m\u001b[1;33m.\u001b[0m\u001b[0moptions\u001b[0m\u001b[1;33m[\u001b[0m\u001b[1;34m\"has_index_names\"\u001b[0m\u001b[1;33m]\u001b[0m \u001b[1;33m=\u001b[0m \u001b[0mkwds\u001b[0m\u001b[1;33m[\u001b[0m\u001b[1;34m\"has_index_names\"\u001b[0m\u001b[1;33m]\u001b[0m\u001b[1;33m\u001b[0m\u001b[1;33m\u001b[0m\u001b[0m\n\u001b[0;32m    879\u001b[0m \u001b[1;33m\u001b[0m\u001b[0m\n\u001b[1;32m--> 880\u001b[1;33m         \u001b[0mself\u001b[0m\u001b[1;33m.\u001b[0m\u001b[0m_make_engine\u001b[0m\u001b[1;33m(\u001b[0m\u001b[0mself\u001b[0m\u001b[1;33m.\u001b[0m\u001b[0mengine\u001b[0m\u001b[1;33m)\u001b[0m\u001b[1;33m\u001b[0m\u001b[1;33m\u001b[0m\u001b[0m\n\u001b[0m\u001b[0;32m    881\u001b[0m \u001b[1;33m\u001b[0m\u001b[0m\n\u001b[0;32m    882\u001b[0m     \u001b[1;32mdef\u001b[0m \u001b[0mclose\u001b[0m\u001b[1;33m(\u001b[0m\u001b[0mself\u001b[0m\u001b[1;33m)\u001b[0m\u001b[1;33m:\u001b[0m\u001b[1;33m\u001b[0m\u001b[1;33m\u001b[0m\u001b[0m\n",
      "\u001b[1;32m~\\.ipython\\profile_default\\db\\lib\\site-packages\\pandas\\io\\parsers.py\u001b[0m in \u001b[0;36m_make_engine\u001b[1;34m(self, engine)\u001b[0m\n\u001b[0;32m   1112\u001b[0m     \u001b[1;32mdef\u001b[0m \u001b[0m_make_engine\u001b[0m\u001b[1;33m(\u001b[0m\u001b[0mself\u001b[0m\u001b[1;33m,\u001b[0m \u001b[0mengine\u001b[0m\u001b[1;33m=\u001b[0m\u001b[1;34m\"c\"\u001b[0m\u001b[1;33m)\u001b[0m\u001b[1;33m:\u001b[0m\u001b[1;33m\u001b[0m\u001b[1;33m\u001b[0m\u001b[0m\n\u001b[0;32m   1113\u001b[0m         \u001b[1;32mif\u001b[0m \u001b[0mengine\u001b[0m \u001b[1;33m==\u001b[0m \u001b[1;34m\"c\"\u001b[0m\u001b[1;33m:\u001b[0m\u001b[1;33m\u001b[0m\u001b[1;33m\u001b[0m\u001b[0m\n\u001b[1;32m-> 1114\u001b[1;33m             \u001b[0mself\u001b[0m\u001b[1;33m.\u001b[0m\u001b[0m_engine\u001b[0m \u001b[1;33m=\u001b[0m \u001b[0mCParserWrapper\u001b[0m\u001b[1;33m(\u001b[0m\u001b[0mself\u001b[0m\u001b[1;33m.\u001b[0m\u001b[0mf\u001b[0m\u001b[1;33m,\u001b[0m \u001b[1;33m**\u001b[0m\u001b[0mself\u001b[0m\u001b[1;33m.\u001b[0m\u001b[0moptions\u001b[0m\u001b[1;33m)\u001b[0m\u001b[1;33m\u001b[0m\u001b[1;33m\u001b[0m\u001b[0m\n\u001b[0m\u001b[0;32m   1115\u001b[0m         \u001b[1;32melse\u001b[0m\u001b[1;33m:\u001b[0m\u001b[1;33m\u001b[0m\u001b[1;33m\u001b[0m\u001b[0m\n\u001b[0;32m   1116\u001b[0m             \u001b[1;32mif\u001b[0m \u001b[0mengine\u001b[0m \u001b[1;33m==\u001b[0m \u001b[1;34m\"python\"\u001b[0m\u001b[1;33m:\u001b[0m\u001b[1;33m\u001b[0m\u001b[1;33m\u001b[0m\u001b[0m\n",
      "\u001b[1;32m~\\.ipython\\profile_default\\db\\lib\\site-packages\\pandas\\io\\parsers.py\u001b[0m in \u001b[0;36m__init__\u001b[1;34m(self, src, **kwds)\u001b[0m\n\u001b[0;32m   1889\u001b[0m         \u001b[0mkwds\u001b[0m\u001b[1;33m[\u001b[0m\u001b[1;34m\"usecols\"\u001b[0m\u001b[1;33m]\u001b[0m \u001b[1;33m=\u001b[0m \u001b[0mself\u001b[0m\u001b[1;33m.\u001b[0m\u001b[0musecols\u001b[0m\u001b[1;33m\u001b[0m\u001b[1;33m\u001b[0m\u001b[0m\n\u001b[0;32m   1890\u001b[0m \u001b[1;33m\u001b[0m\u001b[0m\n\u001b[1;32m-> 1891\u001b[1;33m         \u001b[0mself\u001b[0m\u001b[1;33m.\u001b[0m\u001b[0m_reader\u001b[0m \u001b[1;33m=\u001b[0m \u001b[0mparsers\u001b[0m\u001b[1;33m.\u001b[0m\u001b[0mTextReader\u001b[0m\u001b[1;33m(\u001b[0m\u001b[0msrc\u001b[0m\u001b[1;33m,\u001b[0m \u001b[1;33m**\u001b[0m\u001b[0mkwds\u001b[0m\u001b[1;33m)\u001b[0m\u001b[1;33m\u001b[0m\u001b[1;33m\u001b[0m\u001b[0m\n\u001b[0m\u001b[0;32m   1892\u001b[0m         \u001b[0mself\u001b[0m\u001b[1;33m.\u001b[0m\u001b[0munnamed_cols\u001b[0m \u001b[1;33m=\u001b[0m \u001b[0mself\u001b[0m\u001b[1;33m.\u001b[0m\u001b[0m_reader\u001b[0m\u001b[1;33m.\u001b[0m\u001b[0munnamed_cols\u001b[0m\u001b[1;33m\u001b[0m\u001b[1;33m\u001b[0m\u001b[0m\n\u001b[0;32m   1893\u001b[0m \u001b[1;33m\u001b[0m\u001b[0m\n",
      "\u001b[1;32mpandas\\_libs\\parsers.pyx\u001b[0m in \u001b[0;36mpandas._libs.parsers.TextReader.__cinit__\u001b[1;34m()\u001b[0m\n",
      "\u001b[1;32mpandas\\_libs\\parsers.pyx\u001b[0m in \u001b[0;36mpandas._libs.parsers.TextReader._setup_parser_source\u001b[1;34m()\u001b[0m\n",
      "\u001b[1;31mFileNotFoundError\u001b[0m: [Errno 2] File Consumer_Complaints_train.csv does not exist: 'Consumer_Complaints_train.csv'"
     ]
    }
   ],
   "source": [
    "cc_train = pd.read_csv(\"Consumer_Complaints_train.csv\")\n",
    "cc_test = pd.read_csv(\"Consumer_Complaints_test_share.csv\")"
   ]
  },
  {
   "cell_type": "code",
   "execution_count": 7,
   "metadata": {},
   "outputs": [
    {
     "ename": "NameError",
     "evalue": "name 'cc_train' is not defined",
     "output_type": "error",
     "traceback": [
      "\u001b[1;31m---------------------------------------------------------------------------\u001b[0m",
      "\u001b[1;31mNameError\u001b[0m                                 Traceback (most recent call last)",
      "\u001b[1;32m<ipython-input-7-279e452e0685>\u001b[0m in \u001b[0;36m<module>\u001b[1;34m\u001b[0m\n\u001b[1;32m----> 1\u001b[1;33m \u001b[0mcc_train\u001b[0m\u001b[1;33m.\u001b[0m\u001b[0mhead\u001b[0m\u001b[1;33m(\u001b[0m\u001b[1;33m)\u001b[0m\u001b[1;33m\u001b[0m\u001b[1;33m\u001b[0m\u001b[0m\n\u001b[0m",
      "\u001b[1;31mNameError\u001b[0m: name 'cc_train' is not defined"
     ]
    }
   ],
   "source": [
    "cc_train.head()"
   ]
  },
  {
   "cell_type": "code",
   "execution_count": 57,
   "metadata": {},
   "outputs": [
    {
     "data": {
      "text/html": [
       "<div>\n",
       "<style scoped>\n",
       "    .dataframe tbody tr th:only-of-type {\n",
       "        vertical-align: middle;\n",
       "    }\n",
       "\n",
       "    .dataframe tbody tr th {\n",
       "        vertical-align: top;\n",
       "    }\n",
       "\n",
       "    .dataframe thead th {\n",
       "        text-align: right;\n",
       "    }\n",
       "</style>\n",
       "<table border=\"1\" class=\"dataframe\">\n",
       "  <thead>\n",
       "    <tr style=\"text-align: right;\">\n",
       "      <th></th>\n",
       "      <th>Date received</th>\n",
       "      <th>Product</th>\n",
       "      <th>Sub-product</th>\n",
       "      <th>Issue</th>\n",
       "      <th>Sub-issue</th>\n",
       "      <th>Consumer complaint narrative</th>\n",
       "      <th>Company public response</th>\n",
       "      <th>Company</th>\n",
       "      <th>State</th>\n",
       "      <th>ZIP code</th>\n",
       "      <th>Tags</th>\n",
       "      <th>Consumer consent provided?</th>\n",
       "      <th>Submitted via</th>\n",
       "      <th>Date sent to company</th>\n",
       "      <th>Company response to consumer</th>\n",
       "      <th>Timely response?</th>\n",
       "      <th>Complaint ID</th>\n",
       "    </tr>\n",
       "  </thead>\n",
       "  <tbody>\n",
       "    <tr>\n",
       "      <th>0</th>\n",
       "      <td>2014-01-18</td>\n",
       "      <td>Bank account or service</td>\n",
       "      <td>Cashing a check without an account</td>\n",
       "      <td>Deposits and withdrawals</td>\n",
       "      <td>NaN</td>\n",
       "      <td>NaN</td>\n",
       "      <td>NaN</td>\n",
       "      <td>Bank of America</td>\n",
       "      <td>CA</td>\n",
       "      <td>95691</td>\n",
       "      <td>NaN</td>\n",
       "      <td>NaN</td>\n",
       "      <td>Web</td>\n",
       "      <td>2014-01-17</td>\n",
       "      <td>Closed with explanation</td>\n",
       "      <td>Yes</td>\n",
       "      <td>675956</td>\n",
       "    </tr>\n",
       "    <tr>\n",
       "      <th>1</th>\n",
       "      <td>2016-03-31</td>\n",
       "      <td>Debt collection</td>\n",
       "      <td>Credit card</td>\n",
       "      <td>Cont'd attempts collect debt not owed</td>\n",
       "      <td>Debt was paid</td>\n",
       "      <td>NaN</td>\n",
       "      <td>NaN</td>\n",
       "      <td>National Credit Adjusters, LLC</td>\n",
       "      <td>FL</td>\n",
       "      <td>32086</td>\n",
       "      <td>NaN</td>\n",
       "      <td>Consent not provided</td>\n",
       "      <td>Web</td>\n",
       "      <td>2016-03-31</td>\n",
       "      <td>Closed with explanation</td>\n",
       "      <td>Yes</td>\n",
       "      <td>1858795</td>\n",
       "    </tr>\n",
       "    <tr>\n",
       "      <th>2</th>\n",
       "      <td>2012-03-08</td>\n",
       "      <td>Mortgage</td>\n",
       "      <td>Conventional adjustable mortgage (ARM)</td>\n",
       "      <td>Loan servicing, payments, escrow account</td>\n",
       "      <td>NaN</td>\n",
       "      <td>NaN</td>\n",
       "      <td>NaN</td>\n",
       "      <td>Wells Fargo &amp; Company</td>\n",
       "      <td>CA</td>\n",
       "      <td>94618</td>\n",
       "      <td>NaN</td>\n",
       "      <td>NaN</td>\n",
       "      <td>Web</td>\n",
       "      <td>2012-03-09</td>\n",
       "      <td>Closed without relief</td>\n",
       "      <td>Yes</td>\n",
       "      <td>32637</td>\n",
       "    </tr>\n",
       "    <tr>\n",
       "      <th>3</th>\n",
       "      <td>2016-01-07</td>\n",
       "      <td>Credit reporting</td>\n",
       "      <td>NaN</td>\n",
       "      <td>Unable to get credit report/credit score</td>\n",
       "      <td>Problem getting report or credit score</td>\n",
       "      <td>NaN</td>\n",
       "      <td>Company chooses not to provide a public response</td>\n",
       "      <td>TransUnion Intermediate Holdings, Inc.</td>\n",
       "      <td>FL</td>\n",
       "      <td>33584</td>\n",
       "      <td>Older American</td>\n",
       "      <td>NaN</td>\n",
       "      <td>Postal mail</td>\n",
       "      <td>2016-01-12</td>\n",
       "      <td>Closed with non-monetary relief</td>\n",
       "      <td>Yes</td>\n",
       "      <td>1731374</td>\n",
       "    </tr>\n",
       "    <tr>\n",
       "      <th>4</th>\n",
       "      <td>2013-08-23</td>\n",
       "      <td>Mortgage</td>\n",
       "      <td>FHA mortgage</td>\n",
       "      <td>Loan modification,collection,foreclosure</td>\n",
       "      <td>NaN</td>\n",
       "      <td>NaN</td>\n",
       "      <td>NaN</td>\n",
       "      <td>Bank of America</td>\n",
       "      <td>FL</td>\n",
       "      <td>33543</td>\n",
       "      <td>NaN</td>\n",
       "      <td>NaN</td>\n",
       "      <td>Web</td>\n",
       "      <td>2013-08-23</td>\n",
       "      <td>Closed with explanation</td>\n",
       "      <td>Yes</td>\n",
       "      <td>501487</td>\n",
       "    </tr>\n",
       "  </tbody>\n",
       "</table>\n",
       "</div>"
      ],
      "text/plain": [
       "  Date received                  Product  \\\n",
       "0    2014-01-18  Bank account or service   \n",
       "1    2016-03-31          Debt collection   \n",
       "2    2012-03-08                 Mortgage   \n",
       "3    2016-01-07         Credit reporting   \n",
       "4    2013-08-23                 Mortgage   \n",
       "\n",
       "                              Sub-product  \\\n",
       "0      Cashing a check without an account   \n",
       "1                             Credit card   \n",
       "2  Conventional adjustable mortgage (ARM)   \n",
       "3                                     NaN   \n",
       "4                            FHA mortgage   \n",
       "\n",
       "                                      Issue  \\\n",
       "0                  Deposits and withdrawals   \n",
       "1     Cont'd attempts collect debt not owed   \n",
       "2  Loan servicing, payments, escrow account   \n",
       "3  Unable to get credit report/credit score   \n",
       "4  Loan modification,collection,foreclosure   \n",
       "\n",
       "                                Sub-issue Consumer complaint narrative  \\\n",
       "0                                     NaN                          NaN   \n",
       "1                           Debt was paid                          NaN   \n",
       "2                                     NaN                          NaN   \n",
       "3  Problem getting report or credit score                          NaN   \n",
       "4                                     NaN                          NaN   \n",
       "\n",
       "                            Company public response  \\\n",
       "0                                               NaN   \n",
       "1                                               NaN   \n",
       "2                                               NaN   \n",
       "3  Company chooses not to provide a public response   \n",
       "4                                               NaN   \n",
       "\n",
       "                                  Company State ZIP code            Tags  \\\n",
       "0                         Bank of America    CA    95691             NaN   \n",
       "1          National Credit Adjusters, LLC    FL    32086             NaN   \n",
       "2                   Wells Fargo & Company    CA    94618             NaN   \n",
       "3  TransUnion Intermediate Holdings, Inc.    FL    33584  Older American   \n",
       "4                         Bank of America    FL    33543             NaN   \n",
       "\n",
       "  Consumer consent provided? Submitted via Date sent to company  \\\n",
       "0                        NaN           Web           2014-01-17   \n",
       "1       Consent not provided           Web           2016-03-31   \n",
       "2                        NaN           Web           2012-03-09   \n",
       "3                        NaN   Postal mail           2016-01-12   \n",
       "4                        NaN           Web           2013-08-23   \n",
       "\n",
       "      Company response to consumer Timely response?  Complaint ID  \n",
       "0          Closed with explanation              Yes        675956  \n",
       "1          Closed with explanation              Yes       1858795  \n",
       "2            Closed without relief              Yes         32637  \n",
       "3  Closed with non-monetary relief              Yes       1731374  \n",
       "4          Closed with explanation              Yes        501487  "
      ]
     },
     "execution_count": 57,
     "metadata": {},
     "output_type": "execute_result"
    }
   ],
   "source": [
    "cc_test.head()"
   ]
  },
  {
   "cell_type": "code",
   "execution_count": 58,
   "metadata": {},
   "outputs": [],
   "source": [
    "cc_test['Consumer disputed?'] = np.nan"
   ]
  },
  {
   "cell_type": "code",
   "execution_count": 59,
   "metadata": {},
   "outputs": [
    {
     "name": "stdout",
     "output_type": "stream",
     "text": [
      "<class 'pandas.core.frame.DataFrame'>\n",
      "RangeIndex: 478421 entries, 0 to 478420\n",
      "Data columns (total 18 columns):\n",
      " #   Column                        Non-Null Count   Dtype \n",
      "---  ------                        --------------   ----- \n",
      " 0   Date received                 478421 non-null  object\n",
      " 1   Product                       478421 non-null  object\n",
      " 2   Sub-product                   339948 non-null  object\n",
      " 3   Issue                         478421 non-null  object\n",
      " 4   Sub-issue                     185796 non-null  object\n",
      " 5   Consumer complaint narrative  75094 non-null   object\n",
      " 6   Company public response       90392 non-null   object\n",
      " 7   Company                       478421 non-null  object\n",
      " 8   State                         474582 non-null  object\n",
      " 9   ZIP code                      474573 non-null  object\n",
      " 10  Tags                          67206 non-null   object\n",
      " 11  Consumer consent provided?    135487 non-null  object\n",
      " 12  Submitted via                 478421 non-null  object\n",
      " 13  Date sent to company          478421 non-null  object\n",
      " 14  Company response to consumer  478421 non-null  object\n",
      " 15  Timely response?              478421 non-null  object\n",
      " 16  Consumer disputed?            478421 non-null  object\n",
      " 17  Complaint ID                  478421 non-null  int64 \n",
      "dtypes: int64(1), object(17)\n",
      "memory usage: 65.7+ MB\n"
     ]
    }
   ],
   "source": [
    "cc_train.info()"
   ]
  },
  {
   "cell_type": "code",
   "execution_count": 60,
   "metadata": {},
   "outputs": [
    {
     "data": {
      "text/plain": [
       "598027"
      ]
     },
     "execution_count": 60,
     "metadata": {},
     "output_type": "execute_result"
    }
   ],
   "source": [
    "478421 + 119606 "
   ]
  },
  {
   "cell_type": "code",
   "execution_count": 61,
   "metadata": {},
   "outputs": [
    {
     "name": "stdout",
     "output_type": "stream",
     "text": [
      "<class 'pandas.core.frame.DataFrame'>\n",
      "RangeIndex: 119606 entries, 0 to 119605\n",
      "Data columns (total 18 columns):\n",
      " #   Column                        Non-Null Count   Dtype  \n",
      "---  ------                        --------------   -----  \n",
      " 0   Date received                 119606 non-null  object \n",
      " 1   Product                       119606 non-null  object \n",
      " 2   Sub-product                   84854 non-null   object \n",
      " 3   Issue                         119606 non-null  object \n",
      " 4   Sub-issue                     46546 non-null   object \n",
      " 5   Consumer complaint narrative  18557 non-null   object \n",
      " 6   Company public response       22776 non-null   object \n",
      " 7   Company                       119606 non-null  object \n",
      " 8   State                         118681 non-null  object \n",
      " 9   ZIP code                      118680 non-null  object \n",
      " 10  Tags                          16871 non-null   object \n",
      " 11  Consumer consent provided?    33864 non-null   object \n",
      " 12  Submitted via                 119605 non-null  object \n",
      " 13  Date sent to company          119606 non-null  object \n",
      " 14  Company response to consumer  119606 non-null  object \n",
      " 15  Timely response?              119606 non-null  object \n",
      " 16  Complaint ID                  119606 non-null  int64  \n",
      " 17  Consumer disputed?            0 non-null       float64\n",
      "dtypes: float64(1), int64(1), object(16)\n",
      "memory usage: 16.4+ MB\n"
     ]
    }
   ],
   "source": [
    "cc_test.info()"
   ]
  },
  {
   "cell_type": "code",
   "execution_count": 62,
   "metadata": {},
   "outputs": [
    {
     "data": {
      "text/plain": [
       "Date received                        0\n",
       "Product                              0\n",
       "Sub-product                     138473\n",
       "Issue                                0\n",
       "Sub-issue                       292625\n",
       "Consumer complaint narrative    403327\n",
       "Company public response         388029\n",
       "Company                              0\n",
       "State                             3839\n",
       "ZIP code                          3848\n",
       "Tags                            411215\n",
       "Consumer consent provided?      342934\n",
       "Submitted via                        0\n",
       "Date sent to company                 0\n",
       "Company response to consumer         0\n",
       "Timely response?                     0\n",
       "Consumer disputed?                   0\n",
       "Complaint ID                         0\n",
       "dtype: int64"
      ]
     },
     "execution_count": 62,
     "metadata": {},
     "output_type": "execute_result"
    }
   ],
   "source": [
    "cc_train.isnull().sum()"
   ]
  },
  {
   "cell_type": "code",
   "execution_count": 63,
   "metadata": {},
   "outputs": [
    {
     "data": {
      "text/plain": [
       "478421"
      ]
     },
     "execution_count": 63,
     "metadata": {},
     "output_type": "execute_result"
    }
   ],
   "source": [
    "cc_train.shape[0]"
   ]
  },
  {
   "cell_type": "code",
   "execution_count": 64,
   "metadata": {},
   "outputs": [
    {
     "data": {
      "text/plain": [
       "74019"
      ]
     },
     "execution_count": 64,
     "metadata": {},
     "output_type": "execute_result"
    }
   ],
   "source": [
    "len(cc_train['Consumer complaint narrative'].value_counts())"
   ]
  },
  {
   "cell_type": "code",
   "execution_count": 65,
   "metadata": {},
   "outputs": [
    {
     "data": {
      "text/plain": [
       "74020"
      ]
     },
     "execution_count": 65,
     "metadata": {},
     "output_type": "execute_result"
    }
   ],
   "source": [
    "len(cc_train['Consumer complaint narrative'].unique())"
   ]
  },
  {
   "cell_type": "code",
   "execution_count": 66,
   "metadata": {},
   "outputs": [
    {
     "data": {
      "text/plain": [
       "12"
      ]
     },
     "execution_count": 66,
     "metadata": {},
     "output_type": "execute_result"
    }
   ],
   "source": [
    "len(cc_train['Product'].unique())"
   ]
  },
  {
   "cell_type": "code",
   "execution_count": 67,
   "metadata": {},
   "outputs": [],
   "source": [
    "cc_train['data'] = 'train'\n",
    "cc_test['data'] = 'test'"
   ]
  },
  {
   "cell_type": "code",
   "execution_count": 68,
   "metadata": {},
   "outputs": [],
   "source": [
    "cc_all = pd.concat([cc_train,cc_test],axis = 0)"
   ]
  },
  {
   "cell_type": "code",
   "execution_count": 69,
   "metadata": {},
   "outputs": [
    {
     "name": "stdout",
     "output_type": "stream",
     "text": [
      "<class 'pandas.core.frame.DataFrame'>\n",
      "Int64Index: 598027 entries, 0 to 119605\n",
      "Data columns (total 19 columns):\n",
      " #   Column                        Non-Null Count   Dtype \n",
      "---  ------                        --------------   ----- \n",
      " 0   Date received                 598027 non-null  object\n",
      " 1   Product                       598027 non-null  object\n",
      " 2   Sub-product                   424802 non-null  object\n",
      " 3   Issue                         598027 non-null  object\n",
      " 4   Sub-issue                     232342 non-null  object\n",
      " 5   Consumer complaint narrative  93651 non-null   object\n",
      " 6   Company public response       113168 non-null  object\n",
      " 7   Company                       598027 non-null  object\n",
      " 8   State                         593263 non-null  object\n",
      " 9   ZIP code                      593253 non-null  object\n",
      " 10  Tags                          84077 non-null   object\n",
      " 11  Consumer consent provided?    169351 non-null  object\n",
      " 12  Submitted via                 598026 non-null  object\n",
      " 13  Date sent to company          598027 non-null  object\n",
      " 14  Company response to consumer  598027 non-null  object\n",
      " 15  Timely response?              598027 non-null  object\n",
      " 16  Consumer disputed?            478421 non-null  object\n",
      " 17  Complaint ID                  598027 non-null  int64 \n",
      " 18  data                          598027 non-null  object\n",
      "dtypes: int64(1), object(18)\n",
      "memory usage: 91.3+ MB\n"
     ]
    }
   ],
   "source": [
    "cc_all.info()"
   ]
  },
  {
   "cell_type": "code",
   "execution_count": 70,
   "metadata": {},
   "outputs": [],
   "source": [
    "for col in ['Date sent to company','Date received']:\n",
    "    cc_all[col] = pd.to_datetime(cc_all[col],infer_datetime_format=True)\n"
   ]
  },
  {
   "cell_type": "code",
   "execution_count": 71,
   "metadata": {},
   "outputs": [
    {
     "data": {
      "text/plain": [
       "Date received                        0\n",
       "Product                              0\n",
       "Sub-product                     173225\n",
       "Issue                                0\n",
       "Sub-issue                       365685\n",
       "Consumer complaint narrative    504376\n",
       "Company public response         484859\n",
       "Company                              0\n",
       "State                             4764\n",
       "ZIP code                          4774\n",
       "Tags                            513950\n",
       "Consumer consent provided?      428676\n",
       "Submitted via                        1\n",
       "Date sent to company                 0\n",
       "Company response to consumer         0\n",
       "Timely response?                     0\n",
       "Consumer disputed?              119606\n",
       "Complaint ID                         0\n",
       "data                                 0\n",
       "dtype: int64"
      ]
     },
     "execution_count": 71,
     "metadata": {},
     "output_type": "execute_result"
    }
   ],
   "source": [
    "cc_all.isnull().sum()"
   ]
  },
  {
   "cell_type": "code",
   "execution_count": 72,
   "metadata": {},
   "outputs": [],
   "source": [
    "cc_all['day_diff'] = pd.to_numeric(cc_all['Date sent to company'] - cc_all['Date received'])"
   ]
  },
  {
   "cell_type": "code",
   "execution_count": 73,
   "metadata": {},
   "outputs": [
    {
     "data": {
      "text/html": [
       "<div>\n",
       "<style scoped>\n",
       "    .dataframe tbody tr th:only-of-type {\n",
       "        vertical-align: middle;\n",
       "    }\n",
       "\n",
       "    .dataframe tbody tr th {\n",
       "        vertical-align: top;\n",
       "    }\n",
       "\n",
       "    .dataframe thead th {\n",
       "        text-align: right;\n",
       "    }\n",
       "</style>\n",
       "<table border=\"1\" class=\"dataframe\">\n",
       "  <thead>\n",
       "    <tr style=\"text-align: right;\">\n",
       "      <th></th>\n",
       "      <th>Date received</th>\n",
       "      <th>Product</th>\n",
       "      <th>Sub-product</th>\n",
       "      <th>Issue</th>\n",
       "      <th>Sub-issue</th>\n",
       "      <th>Consumer complaint narrative</th>\n",
       "      <th>Company public response</th>\n",
       "      <th>Company</th>\n",
       "      <th>State</th>\n",
       "      <th>ZIP code</th>\n",
       "      <th>Tags</th>\n",
       "      <th>Consumer consent provided?</th>\n",
       "      <th>Submitted via</th>\n",
       "      <th>Date sent to company</th>\n",
       "      <th>Company response to consumer</th>\n",
       "      <th>Timely response?</th>\n",
       "      <th>Consumer disputed?</th>\n",
       "      <th>Complaint ID</th>\n",
       "      <th>data</th>\n",
       "      <th>day_diff</th>\n",
       "    </tr>\n",
       "  </thead>\n",
       "  <tbody>\n",
       "    <tr>\n",
       "      <th>0</th>\n",
       "      <td>2014-05-15</td>\n",
       "      <td>Credit card</td>\n",
       "      <td>NaN</td>\n",
       "      <td>Billing statement</td>\n",
       "      <td>NaN</td>\n",
       "      <td>NaN</td>\n",
       "      <td>NaN</td>\n",
       "      <td>Wells Fargo &amp; Company</td>\n",
       "      <td>MI</td>\n",
       "      <td>48342</td>\n",
       "      <td>Older American</td>\n",
       "      <td>NaN</td>\n",
       "      <td>Web</td>\n",
       "      <td>2014-05-16</td>\n",
       "      <td>Closed with explanation</td>\n",
       "      <td>Yes</td>\n",
       "      <td>No</td>\n",
       "      <td>856103</td>\n",
       "      <td>train</td>\n",
       "      <td>86400000000000</td>\n",
       "    </tr>\n",
       "    <tr>\n",
       "      <th>1</th>\n",
       "      <td>2014-09-18</td>\n",
       "      <td>Bank account or service</td>\n",
       "      <td>(CD) Certificate of deposit</td>\n",
       "      <td>Making/receiving payments, sending money</td>\n",
       "      <td>NaN</td>\n",
       "      <td>NaN</td>\n",
       "      <td>NaN</td>\n",
       "      <td>Santander Bank US</td>\n",
       "      <td>PA</td>\n",
       "      <td>18042</td>\n",
       "      <td>NaN</td>\n",
       "      <td>NaN</td>\n",
       "      <td>Referral</td>\n",
       "      <td>2014-09-24</td>\n",
       "      <td>Closed</td>\n",
       "      <td>Yes</td>\n",
       "      <td>No</td>\n",
       "      <td>1034666</td>\n",
       "      <td>train</td>\n",
       "      <td>518400000000000</td>\n",
       "    </tr>\n",
       "    <tr>\n",
       "      <th>2</th>\n",
       "      <td>2014-03-13</td>\n",
       "      <td>Credit reporting</td>\n",
       "      <td>NaN</td>\n",
       "      <td>Incorrect information on credit report</td>\n",
       "      <td>Account status</td>\n",
       "      <td>NaN</td>\n",
       "      <td>NaN</td>\n",
       "      <td>Equifax</td>\n",
       "      <td>CA</td>\n",
       "      <td>92427</td>\n",
       "      <td>NaN</td>\n",
       "      <td>NaN</td>\n",
       "      <td>Referral</td>\n",
       "      <td>2014-04-03</td>\n",
       "      <td>Closed with non-monetary relief</td>\n",
       "      <td>Yes</td>\n",
       "      <td>No</td>\n",
       "      <td>756363</td>\n",
       "      <td>train</td>\n",
       "      <td>1814400000000000</td>\n",
       "    </tr>\n",
       "    <tr>\n",
       "      <th>3</th>\n",
       "      <td>2015-07-17</td>\n",
       "      <td>Credit card</td>\n",
       "      <td>NaN</td>\n",
       "      <td>Billing statement</td>\n",
       "      <td>NaN</td>\n",
       "      <td>My credit card statement from US Bank, XXXX. X...</td>\n",
       "      <td>Company chooses not to provide a public response</td>\n",
       "      <td>U.S. Bancorp</td>\n",
       "      <td>GA</td>\n",
       "      <td>305XX</td>\n",
       "      <td>Older American</td>\n",
       "      <td>Consent provided</td>\n",
       "      <td>Web</td>\n",
       "      <td>2015-07-17</td>\n",
       "      <td>Closed with monetary relief</td>\n",
       "      <td>Yes</td>\n",
       "      <td>No</td>\n",
       "      <td>1474177</td>\n",
       "      <td>train</td>\n",
       "      <td>0</td>\n",
       "    </tr>\n",
       "    <tr>\n",
       "      <th>4</th>\n",
       "      <td>2014-11-20</td>\n",
       "      <td>Credit card</td>\n",
       "      <td>NaN</td>\n",
       "      <td>Transaction issue</td>\n",
       "      <td>NaN</td>\n",
       "      <td>NaN</td>\n",
       "      <td>NaN</td>\n",
       "      <td>Bank of America</td>\n",
       "      <td>MA</td>\n",
       "      <td>02127</td>\n",
       "      <td>NaN</td>\n",
       "      <td>NaN</td>\n",
       "      <td>Web</td>\n",
       "      <td>2014-11-28</td>\n",
       "      <td>Closed with explanation</td>\n",
       "      <td>Yes</td>\n",
       "      <td>No</td>\n",
       "      <td>1132572</td>\n",
       "      <td>train</td>\n",
       "      <td>691200000000000</td>\n",
       "    </tr>\n",
       "  </tbody>\n",
       "</table>\n",
       "</div>"
      ],
      "text/plain": [
       "  Date received                  Product                  Sub-product  \\\n",
       "0    2014-05-15              Credit card                          NaN   \n",
       "1    2014-09-18  Bank account or service  (CD) Certificate of deposit   \n",
       "2    2014-03-13         Credit reporting                          NaN   \n",
       "3    2015-07-17              Credit card                          NaN   \n",
       "4    2014-11-20              Credit card                          NaN   \n",
       "\n",
       "                                      Issue       Sub-issue  \\\n",
       "0                         Billing statement             NaN   \n",
       "1  Making/receiving payments, sending money             NaN   \n",
       "2    Incorrect information on credit report  Account status   \n",
       "3                         Billing statement             NaN   \n",
       "4                         Transaction issue             NaN   \n",
       "\n",
       "                        Consumer complaint narrative  \\\n",
       "0                                                NaN   \n",
       "1                                                NaN   \n",
       "2                                                NaN   \n",
       "3  My credit card statement from US Bank, XXXX. X...   \n",
       "4                                                NaN   \n",
       "\n",
       "                            Company public response                Company  \\\n",
       "0                                               NaN  Wells Fargo & Company   \n",
       "1                                               NaN      Santander Bank US   \n",
       "2                                               NaN                Equifax   \n",
       "3  Company chooses not to provide a public response           U.S. Bancorp   \n",
       "4                                               NaN        Bank of America   \n",
       "\n",
       "  State ZIP code            Tags Consumer consent provided? Submitted via  \\\n",
       "0    MI    48342  Older American                        NaN           Web   \n",
       "1    PA    18042             NaN                        NaN      Referral   \n",
       "2    CA    92427             NaN                        NaN      Referral   \n",
       "3    GA    305XX  Older American           Consent provided           Web   \n",
       "4    MA    02127             NaN                        NaN           Web   \n",
       "\n",
       "  Date sent to company     Company response to consumer Timely response?  \\\n",
       "0           2014-05-16          Closed with explanation              Yes   \n",
       "1           2014-09-24                           Closed              Yes   \n",
       "2           2014-04-03  Closed with non-monetary relief              Yes   \n",
       "3           2015-07-17      Closed with monetary relief              Yes   \n",
       "4           2014-11-28          Closed with explanation              Yes   \n",
       "\n",
       "  Consumer disputed?  Complaint ID   data          day_diff  \n",
       "0                 No        856103  train    86400000000000  \n",
       "1                 No       1034666  train   518400000000000  \n",
       "2                 No        756363  train  1814400000000000  \n",
       "3                 No       1474177  train                 0  \n",
       "4                 No       1132572  train   691200000000000  "
      ]
     },
     "execution_count": 73,
     "metadata": {},
     "output_type": "execute_result"
    }
   ],
   "source": [
    "cc_all.head()"
   ]
  },
  {
   "cell_type": "code",
   "execution_count": 74,
   "metadata": {},
   "outputs": [],
   "source": [
    "for col in ['Date sent to company','Date received']:\n",
    "    cc_all.drop([col],axis=1,inplace=True)"
   ]
  },
  {
   "cell_type": "code",
   "execution_count": 75,
   "metadata": {},
   "outputs": [
    {
     "name": "stdout",
     "output_type": "stream",
     "text": [
      "Product : 12\n",
      "Sub-product : 47\n",
      "Issue : 95\n",
      "Sub-issue : 68\n",
      "Consumer complaint narrative : 92118\n",
      "Company public response : 10\n",
      "Company : 3437\n",
      "State : 62\n",
      "ZIP code : 27342\n",
      "Tags : 3\n",
      "Consumer consent provided? : 4\n",
      "Submitted via : 6\n",
      "Company response to consumer : 7\n",
      "Timely response? : 2\n",
      "Consumer disputed? : 2\n",
      "data : 2\n"
     ]
    }
   ],
   "source": [
    "for col in cc_all.select_dtypes(['object']).columns:\n",
    "    print(col,':',cc_all[col].nunique())"
   ]
  },
  {
   "cell_type": "code",
   "execution_count": 76,
   "metadata": {},
   "outputs": [
    {
     "data": {
      "text/plain": [
       "Product                              0\n",
       "Sub-product                     173225\n",
       "Issue                                0\n",
       "Sub-issue                       365685\n",
       "Consumer complaint narrative    504376\n",
       "Company public response         484859\n",
       "Company                              0\n",
       "State                             4764\n",
       "ZIP code                          4774\n",
       "Tags                            513950\n",
       "Consumer consent provided?      428676\n",
       "Submitted via                        1\n",
       "Company response to consumer         0\n",
       "Timely response?                     0\n",
       "Consumer disputed?              119606\n",
       "Complaint ID                         0\n",
       "data                                 0\n",
       "day_diff                             0\n",
       "dtype: int64"
      ]
     },
     "execution_count": 76,
     "metadata": {},
     "output_type": "execute_result"
    }
   ],
   "source": [
    "cc_all.isnull().sum()"
   ]
  },
  {
   "cell_type": "code",
   "execution_count": 77,
   "metadata": {},
   "outputs": [],
   "source": [
    "for col in ['Company public response','Consumer complaint narrative',\n",
    "            'Consumer consent provided?','Sub-issue',\"Sub-product\",'Tags']:\n",
    "    varname = col.replace(' ','_').replace('?','_').replace('-','_') + '_isNaN'\n",
    "    cc_all[varname] = np.where(pd.isnull(cc_all[col]),1,0)\n",
    "    del cc_all[col]"
   ]
  },
  {
   "cell_type": "code",
   "execution_count": 78,
   "metadata": {},
   "outputs": [
    {
     "name": "stdout",
     "output_type": "stream",
     "text": [
      "<class 'pandas.core.frame.DataFrame'>\n",
      "Int64Index: 598027 entries, 0 to 119605\n",
      "Data columns (total 18 columns):\n",
      " #   Column                              Non-Null Count   Dtype \n",
      "---  ------                              --------------   ----- \n",
      " 0   Product                             598027 non-null  object\n",
      " 1   Issue                               598027 non-null  object\n",
      " 2   Company                             598027 non-null  object\n",
      " 3   State                               593263 non-null  object\n",
      " 4   ZIP code                            593253 non-null  object\n",
      " 5   Submitted via                       598026 non-null  object\n",
      " 6   Company response to consumer        598027 non-null  object\n",
      " 7   Timely response?                    598027 non-null  object\n",
      " 8   Consumer disputed?                  478421 non-null  object\n",
      " 9   Complaint ID                        598027 non-null  int64 \n",
      " 10  data                                598027 non-null  object\n",
      " 11  day_diff                            598027 non-null  int64 \n",
      " 12  Company_public_response_isNaN       598027 non-null  int32 \n",
      " 13  Consumer_complaint_narrative_isNaN  598027 non-null  int32 \n",
      " 14  Consumer_consent_provided__isNaN    598027 non-null  int32 \n",
      " 15  Sub_issue_isNaN                     598027 non-null  int32 \n",
      " 16  Sub_product_isNaN                   598027 non-null  int32 \n",
      " 17  Tags_isNaN                          598027 non-null  int32 \n",
      "dtypes: int32(6), int64(2), object(10)\n",
      "memory usage: 73.0+ MB\n"
     ]
    }
   ],
   "source": [
    "cc_all.info()"
   ]
  },
  {
   "cell_type": "code",
   "execution_count": 79,
   "metadata": {},
   "outputs": [
    {
     "data": {
      "text/html": [
       "<div>\n",
       "<style scoped>\n",
       "    .dataframe tbody tr th:only-of-type {\n",
       "        vertical-align: middle;\n",
       "    }\n",
       "\n",
       "    .dataframe tbody tr th {\n",
       "        vertical-align: top;\n",
       "    }\n",
       "\n",
       "    .dataframe thead th {\n",
       "        text-align: right;\n",
       "    }\n",
       "</style>\n",
       "<table border=\"1\" class=\"dataframe\">\n",
       "  <thead>\n",
       "    <tr style=\"text-align: right;\">\n",
       "      <th></th>\n",
       "      <th>Product</th>\n",
       "      <th>Issue</th>\n",
       "      <th>Company</th>\n",
       "      <th>State</th>\n",
       "      <th>ZIP code</th>\n",
       "      <th>Submitted via</th>\n",
       "      <th>Company response to consumer</th>\n",
       "      <th>Timely response?</th>\n",
       "      <th>Consumer disputed?</th>\n",
       "      <th>Complaint ID</th>\n",
       "      <th>data</th>\n",
       "      <th>day_diff</th>\n",
       "      <th>Company_public_response_isNaN</th>\n",
       "      <th>Consumer_complaint_narrative_isNaN</th>\n",
       "      <th>Consumer_consent_provided__isNaN</th>\n",
       "      <th>Sub_issue_isNaN</th>\n",
       "      <th>Sub_product_isNaN</th>\n",
       "      <th>Tags_isNaN</th>\n",
       "    </tr>\n",
       "  </thead>\n",
       "  <tbody>\n",
       "    <tr>\n",
       "      <th>0</th>\n",
       "      <td>Credit card</td>\n",
       "      <td>Billing statement</td>\n",
       "      <td>Wells Fargo &amp; Company</td>\n",
       "      <td>MI</td>\n",
       "      <td>48342</td>\n",
       "      <td>Web</td>\n",
       "      <td>Closed with explanation</td>\n",
       "      <td>Yes</td>\n",
       "      <td>No</td>\n",
       "      <td>856103</td>\n",
       "      <td>train</td>\n",
       "      <td>86400000000000</td>\n",
       "      <td>1</td>\n",
       "      <td>1</td>\n",
       "      <td>1</td>\n",
       "      <td>1</td>\n",
       "      <td>1</td>\n",
       "      <td>0</td>\n",
       "    </tr>\n",
       "    <tr>\n",
       "      <th>1</th>\n",
       "      <td>Bank account or service</td>\n",
       "      <td>Making/receiving payments, sending money</td>\n",
       "      <td>Santander Bank US</td>\n",
       "      <td>PA</td>\n",
       "      <td>18042</td>\n",
       "      <td>Referral</td>\n",
       "      <td>Closed</td>\n",
       "      <td>Yes</td>\n",
       "      <td>No</td>\n",
       "      <td>1034666</td>\n",
       "      <td>train</td>\n",
       "      <td>518400000000000</td>\n",
       "      <td>1</td>\n",
       "      <td>1</td>\n",
       "      <td>1</td>\n",
       "      <td>1</td>\n",
       "      <td>0</td>\n",
       "      <td>1</td>\n",
       "    </tr>\n",
       "    <tr>\n",
       "      <th>2</th>\n",
       "      <td>Credit reporting</td>\n",
       "      <td>Incorrect information on credit report</td>\n",
       "      <td>Equifax</td>\n",
       "      <td>CA</td>\n",
       "      <td>92427</td>\n",
       "      <td>Referral</td>\n",
       "      <td>Closed with non-monetary relief</td>\n",
       "      <td>Yes</td>\n",
       "      <td>No</td>\n",
       "      <td>756363</td>\n",
       "      <td>train</td>\n",
       "      <td>1814400000000000</td>\n",
       "      <td>1</td>\n",
       "      <td>1</td>\n",
       "      <td>1</td>\n",
       "      <td>0</td>\n",
       "      <td>1</td>\n",
       "      <td>1</td>\n",
       "    </tr>\n",
       "    <tr>\n",
       "      <th>3</th>\n",
       "      <td>Credit card</td>\n",
       "      <td>Billing statement</td>\n",
       "      <td>U.S. Bancorp</td>\n",
       "      <td>GA</td>\n",
       "      <td>305XX</td>\n",
       "      <td>Web</td>\n",
       "      <td>Closed with monetary relief</td>\n",
       "      <td>Yes</td>\n",
       "      <td>No</td>\n",
       "      <td>1474177</td>\n",
       "      <td>train</td>\n",
       "      <td>0</td>\n",
       "      <td>0</td>\n",
       "      <td>0</td>\n",
       "      <td>0</td>\n",
       "      <td>1</td>\n",
       "      <td>1</td>\n",
       "      <td>0</td>\n",
       "    </tr>\n",
       "    <tr>\n",
       "      <th>4</th>\n",
       "      <td>Credit card</td>\n",
       "      <td>Transaction issue</td>\n",
       "      <td>Bank of America</td>\n",
       "      <td>MA</td>\n",
       "      <td>02127</td>\n",
       "      <td>Web</td>\n",
       "      <td>Closed with explanation</td>\n",
       "      <td>Yes</td>\n",
       "      <td>No</td>\n",
       "      <td>1132572</td>\n",
       "      <td>train</td>\n",
       "      <td>691200000000000</td>\n",
       "      <td>1</td>\n",
       "      <td>1</td>\n",
       "      <td>1</td>\n",
       "      <td>1</td>\n",
       "      <td>1</td>\n",
       "      <td>1</td>\n",
       "    </tr>\n",
       "  </tbody>\n",
       "</table>\n",
       "</div>"
      ],
      "text/plain": [
       "                   Product                                     Issue  \\\n",
       "0              Credit card                         Billing statement   \n",
       "1  Bank account or service  Making/receiving payments, sending money   \n",
       "2         Credit reporting    Incorrect information on credit report   \n",
       "3              Credit card                         Billing statement   \n",
       "4              Credit card                         Transaction issue   \n",
       "\n",
       "                 Company State ZIP code Submitted via  \\\n",
       "0  Wells Fargo & Company    MI    48342           Web   \n",
       "1      Santander Bank US    PA    18042      Referral   \n",
       "2                Equifax    CA    92427      Referral   \n",
       "3           U.S. Bancorp    GA    305XX           Web   \n",
       "4        Bank of America    MA    02127           Web   \n",
       "\n",
       "      Company response to consumer Timely response? Consumer disputed?  \\\n",
       "0          Closed with explanation              Yes                 No   \n",
       "1                           Closed              Yes                 No   \n",
       "2  Closed with non-monetary relief              Yes                 No   \n",
       "3      Closed with monetary relief              Yes                 No   \n",
       "4          Closed with explanation              Yes                 No   \n",
       "\n",
       "   Complaint ID   data          day_diff  Company_public_response_isNaN  \\\n",
       "0        856103  train    86400000000000                              1   \n",
       "1       1034666  train   518400000000000                              1   \n",
       "2        756363  train  1814400000000000                              1   \n",
       "3       1474177  train                 0                              0   \n",
       "4       1132572  train   691200000000000                              1   \n",
       "\n",
       "   Consumer_complaint_narrative_isNaN  Consumer_consent_provided__isNaN  \\\n",
       "0                                   1                                 1   \n",
       "1                                   1                                 1   \n",
       "2                                   1                                 1   \n",
       "3                                   0                                 0   \n",
       "4                                   1                                 1   \n",
       "\n",
       "   Sub_issue_isNaN  Sub_product_isNaN  Tags_isNaN  \n",
       "0                1                  1           0  \n",
       "1                1                  0           1  \n",
       "2                0                  1           1  \n",
       "3                1                  1           0  \n",
       "4                1                  1           1  "
      ]
     },
     "execution_count": 79,
     "metadata": {},
     "output_type": "execute_result"
    }
   ],
   "source": [
    "cc_all.head()"
   ]
  },
  {
   "cell_type": "code",
   "execution_count": 80,
   "metadata": {},
   "outputs": [
    {
     "name": "stdout",
     "output_type": "stream",
     "text": [
      "Product : 12\n",
      "Issue : 95\n",
      "Company : 3437\n",
      "State : 62\n",
      "ZIP code : 27342\n",
      "Submitted via : 6\n",
      "Company response to consumer : 7\n",
      "Timely response? : 2\n",
      "Consumer disputed? : 2\n",
      "data : 2\n"
     ]
    }
   ],
   "source": [
    "for col in cc_all.select_dtypes(['object']).columns:\n",
    "    print(col,\":\",cc_all[col].nunique())"
   ]
  },
  {
   "cell_type": "code",
   "execution_count": 81,
   "metadata": {},
   "outputs": [],
   "source": [
    "for col in ['ZIP code','Company']:\n",
    "    cc_all.drop([col],axis=1,inplace=True)"
   ]
  },
  {
   "cell_type": "code",
   "execution_count": 82,
   "metadata": {},
   "outputs": [],
   "source": [
    "cc_all['Consumer disputed?'] = np.where(cc_all['Consumer disputed?']=='Yes',1,0)"
   ]
  },
  {
   "cell_type": "code",
   "execution_count": 83,
   "metadata": {},
   "outputs": [],
   "source": [
    "k = cc_all['Issue'].value_counts()\n",
    "for val in k.axes[0][0:10]:\n",
    "    varname = 'Issue_'+val.replace(',','_').replace(' ','_')\n",
    "    cc_all[varname] = np.where(cc_all['Issue']==val,1,0)\n",
    "\n",
    "del cc_all['Issue']"
   ]
  },
  {
   "cell_type": "code",
   "execution_count": 84,
   "metadata": {},
   "outputs": [],
   "source": [
    "k = cc_all['State'].value_counts()\n",
    "for val in k.axes[0][0:10]:\n",
    "    varname = 'State_'+val.replace(',','_').replace(' ','_')\n",
    "    cc_all[varname] = np.where(cc_all['State']==val,1,0)\n",
    "\n",
    "del cc_all['State']"
   ]
  },
  {
   "cell_type": "code",
   "execution_count": 85,
   "metadata": {},
   "outputs": [],
   "source": [
    "for col in ['Product','Submitted via','Company response to consumer','Timely response?']:\n",
    "    \n",
    "    temp = pd.get_dummies(cc_all[col],prefix=col,drop_first=True)\n",
    "    cc_all = pd.concat([temp,cc_all],1)\n",
    "    cc_all.drop([col],1,inplace=True)"
   ]
  },
  {
   "cell_type": "code",
   "execution_count": 86,
   "metadata": {},
   "outputs": [
    {
     "name": "stdout",
     "output_type": "stream",
     "text": [
      "data : 2\n"
     ]
    }
   ],
   "source": [
    "for col in cc_all.select_dtypes(['object']).columns:\n",
    "    print(col,':',cc_all[col].nunique())"
   ]
  },
  {
   "cell_type": "code",
   "execution_count": 87,
   "metadata": {
    "scrolled": false
   },
   "outputs": [
    {
     "name": "stdout",
     "output_type": "stream",
     "text": [
      "<class 'pandas.core.frame.DataFrame'>\n",
      "Int64Index: 598027 entries, 0 to 119605\n",
      "Data columns (total 53 columns):\n",
      " #   Column                                                        Non-Null Count   Dtype \n",
      "---  ------                                                        --------------   ----- \n",
      " 0   Timely response?_Yes                                          598027 non-null  uint8 \n",
      " 1   Company response to consumer_Closed with explanation          598027 non-null  uint8 \n",
      " 2   Company response to consumer_Closed with monetary relief      598027 non-null  uint8 \n",
      " 3   Company response to consumer_Closed with non-monetary relief  598027 non-null  uint8 \n",
      " 4   Company response to consumer_Closed with relief               598027 non-null  uint8 \n",
      " 5   Company response to consumer_Closed without relief            598027 non-null  uint8 \n",
      " 6   Company response to consumer_Untimely response                598027 non-null  uint8 \n",
      " 7   Submitted via_Fax                                             598027 non-null  uint8 \n",
      " 8   Submitted via_Phone                                           598027 non-null  uint8 \n",
      " 9   Submitted via_Postal mail                                     598027 non-null  uint8 \n",
      " 10  Submitted via_Referral                                        598027 non-null  uint8 \n",
      " 11  Submitted via_Web                                             598027 non-null  uint8 \n",
      " 12  Product_Consumer Loan                                         598027 non-null  uint8 \n",
      " 13  Product_Credit card                                           598027 non-null  uint8 \n",
      " 14  Product_Credit reporting                                      598027 non-null  uint8 \n",
      " 15  Product_Debt collection                                       598027 non-null  uint8 \n",
      " 16  Product_Money transfers                                       598027 non-null  uint8 \n",
      " 17  Product_Mortgage                                              598027 non-null  uint8 \n",
      " 18  Product_Other financial service                               598027 non-null  uint8 \n",
      " 19  Product_Payday loan                                           598027 non-null  uint8 \n",
      " 20  Product_Prepaid card                                          598027 non-null  uint8 \n",
      " 21  Product_Student loan                                          598027 non-null  uint8 \n",
      " 22  Product_Virtual currency                                      598027 non-null  uint8 \n",
      " 23  Consumer disputed?                                            598027 non-null  int32 \n",
      " 24  Complaint ID                                                  598027 non-null  int64 \n",
      " 25  data                                                          598027 non-null  object\n",
      " 26  day_diff                                                      598027 non-null  int64 \n",
      " 27  Company_public_response_isNaN                                 598027 non-null  int32 \n",
      " 28  Consumer_complaint_narrative_isNaN                            598027 non-null  int32 \n",
      " 29  Consumer_consent_provided__isNaN                              598027 non-null  int32 \n",
      " 30  Sub_issue_isNaN                                               598027 non-null  int32 \n",
      " 31  Sub_product_isNaN                                             598027 non-null  int32 \n",
      " 32  Tags_isNaN                                                    598027 non-null  int32 \n",
      " 33  Issue_Loan_modification_collection_foreclosure                598027 non-null  int32 \n",
      " 34  Issue_Incorrect_information_on_credit_report                  598027 non-null  int32 \n",
      " 35  Issue_Loan_servicing__payments__escrow_account                598027 non-null  int32 \n",
      " 36  Issue_Cont'd_attempts_collect_debt_not_owed                   598027 non-null  int32 \n",
      " 37  Issue_Account_opening__closing__or_management                 598027 non-null  int32 \n",
      " 38  Issue_Disclosure_verification_of_debt                         598027 non-null  int32 \n",
      " 39  Issue_Communication_tactics                                   598027 non-null  int32 \n",
      " 40  Issue_Deposits_and_withdrawals                                598027 non-null  int32 \n",
      " 41  Issue_Application__originator__mortgage_broker                598027 non-null  int32 \n",
      " 42  Issue_Billing_disputes                                        598027 non-null  int32 \n",
      " 43  State_CA                                                      598027 non-null  int32 \n",
      " 44  State_FL                                                      598027 non-null  int32 \n",
      " 45  State_TX                                                      598027 non-null  int32 \n",
      " 46  State_NY                                                      598027 non-null  int32 \n",
      " 47  State_GA                                                      598027 non-null  int32 \n",
      " 48  State_NJ                                                      598027 non-null  int32 \n",
      " 49  State_PA                                                      598027 non-null  int32 \n",
      " 50  State_IL                                                      598027 non-null  int32 \n",
      " 51  State_VA                                                      598027 non-null  int32 \n",
      " 52  State_MD                                                      598027 non-null  int32 \n",
      "dtypes: int32(27), int64(2), object(1), uint8(23)\n",
      "memory usage: 93.0+ MB\n"
     ]
    }
   ],
   "source": [
    "cc_all.info()"
   ]
  },
  {
   "cell_type": "code",
   "execution_count": 88,
   "metadata": {},
   "outputs": [
    {
     "data": {
      "text/plain": [
       "0    496596\n",
       "1    101431\n",
       "Name: Consumer disputed?, dtype: int64"
      ]
     },
     "execution_count": 88,
     "metadata": {},
     "output_type": "execute_result"
    }
   ],
   "source": [
    "cc_all['Consumer disputed?'].value_counts()"
   ]
  },
  {
   "cell_type": "code",
   "execution_count": 89,
   "metadata": {},
   "outputs": [
    {
     "data": {
      "text/plain": [
       "0"
      ]
     },
     "execution_count": 89,
     "metadata": {},
     "output_type": "execute_result"
    }
   ],
   "source": [
    "cc_all.isnull().sum().sum()"
   ]
  },
  {
   "cell_type": "code",
   "execution_count": 90,
   "metadata": {},
   "outputs": [],
   "source": [
    "train_clean = cc_all[cc_all['data']=='train']\n",
    "del train_clean['data']\n",
    "test_clean = cc_all[cc_all['data']=='test']\n",
    "test_clean.drop(['data','Consumer disputed?'],axis=1,inplace=True)"
   ]
  },
  {
   "cell_type": "code",
   "execution_count": 91,
   "metadata": {},
   "outputs": [
    {
     "data": {
      "text/plain": [
       "((478421, 52), (119606, 51))"
      ]
     },
     "execution_count": 91,
     "metadata": {},
     "output_type": "execute_result"
    }
   ],
   "source": [
    "train_clean.shape,test_clean.shape"
   ]
  },
  {
   "cell_type": "code",
   "execution_count": 92,
   "metadata": {},
   "outputs": [
    {
     "data": {
      "text/plain": [
       "((478421, 51), (478421,))"
      ]
     },
     "execution_count": 92,
     "metadata": {},
     "output_type": "execute_result"
    }
   ],
   "source": [
    "X = train_clean.drop(['Consumer disputed?'],1)\n",
    "y = train_clean['Consumer disputed?']\n",
    "X.shape, y.shape"
   ]
  },
  {
   "cell_type": "code",
   "execution_count": 93,
   "metadata": {},
   "outputs": [],
   "source": [
    "X_train, X_val, y_train, y_val = train_test_split(X, y, test_size=0.2, random_state=123)"
   ]
  },
  {
   "cell_type": "code",
   "execution_count": 94,
   "metadata": {},
   "outputs": [
    {
     "data": {
      "text/plain": [
       "((382736, 51), (382736,))"
      ]
     },
     "execution_count": 94,
     "metadata": {},
     "output_type": "execute_result"
    }
   ],
   "source": [
    "X_train.shape,y_train.shape"
   ]
  },
  {
   "cell_type": "code",
   "execution_count": 95,
   "metadata": {},
   "outputs": [
    {
     "data": {
      "text/plain": [
       "((95685, 51), (95685,))"
      ]
     },
     "execution_count": 95,
     "metadata": {},
     "output_type": "execute_result"
    }
   ],
   "source": [
    "X_val.shape,y_val.shape"
   ]
  },
  {
   "cell_type": "markdown",
   "metadata": {},
   "source": [
    "### Logistic Regression with GridSearchCV"
   ]
  },
  {
   "cell_type": "code",
   "execution_count": null,
   "metadata": {},
   "outputs": [],
   "source": [
    "# params = {\n",
    "#     'class_weight':['balanced',None],\n",
    "#     'penalty':['l1','l2'],\n",
    "#     'C':np.linspace(0.0001,1000,10)\n",
    "# }"
   ]
  },
  {
   "cell_type": "code",
   "execution_count": null,
   "metadata": {},
   "outputs": [],
   "source": [
    "# from sklearn.linear_model import LogisticRegression\n",
    "# clf = LogisticRegression(fit_intercept=True)"
   ]
  },
  {
   "cell_type": "code",
   "execution_count": null,
   "metadata": {},
   "outputs": [],
   "source": [
    "# from sklearn.model_selection import GridSearchCV"
   ]
  },
  {
   "cell_type": "code",
   "execution_count": null,
   "metadata": {},
   "outputs": [],
   "source": [
    "# grid_search = GridSearchCV(clf,param_grid=params,cv=5,n_jobs=-1,scoring='roc_auc')"
   ]
  },
  {
   "cell_type": "code",
   "execution_count": null,
   "metadata": {},
   "outputs": [],
   "source": [
    "# grid_search.fit(X_train,y_train)"
   ]
  },
  {
   "cell_type": "markdown",
   "metadata": {},
   "source": [
    "### DecisionTreeClassifier with RandomSearchCV"
   ]
  },
  {
   "cell_type": "code",
   "execution_count": 96,
   "metadata": {},
   "outputs": [],
   "source": [
    "from sklearn.model_selection import RandomizedSearchCV"
   ]
  },
  {
   "cell_type": "code",
   "execution_count": 97,
   "metadata": {},
   "outputs": [],
   "source": [
    "from sklearn.tree import DecisionTreeClassifier"
   ]
  },
  {
   "cell_type": "code",
   "execution_count": 98,
   "metadata": {},
   "outputs": [],
   "source": [
    "params={ 'class_weight':[None,'balanced'], \n",
    "        'criterion':['entropy','gini'],\n",
    "        'max_depth':[None,5,10,15,20,30,50,70],\n",
    "            'min_samples_leaf':[1,2,5,10,15,20], \n",
    "            'min_samples_split':[2,5,10,15,20]}"
   ]
  },
  {
   "cell_type": "code",
   "execution_count": 99,
   "metadata": {},
   "outputs": [],
   "source": [
    "clf=DecisionTreeClassifier()"
   ]
  },
  {
   "cell_type": "code",
   "execution_count": 100,
   "metadata": {},
   "outputs": [],
   "source": [
    "random_search=RandomizedSearchCV(clf,cv=10,\n",
    "                                 param_distributions=params,\n",
    "                                 scoring='roc_auc',\n",
    "                                 n_iter=20,n_jobs=-1,verbose=20)"
   ]
  },
  {
   "cell_type": "code",
   "execution_count": 101,
   "metadata": {},
   "outputs": [
    {
     "name": "stdout",
     "output_type": "stream",
     "text": [
      "Fitting 10 folds for each of 20 candidates, totalling 200 fits\n"
     ]
    },
    {
     "name": "stderr",
     "output_type": "stream",
     "text": [
      "[Parallel(n_jobs=-1)]: Using backend LokyBackend with 4 concurrent workers.\n",
      "[Parallel(n_jobs=-1)]: Done   1 tasks      | elapsed:   18.2s\n",
      "[Parallel(n_jobs=-1)]: Done   2 tasks      | elapsed:   18.4s\n",
      "[Parallel(n_jobs=-1)]: Done   3 tasks      | elapsed:   18.4s\n",
      "[Parallel(n_jobs=-1)]: Done   4 tasks      | elapsed:   18.7s\n",
      "[Parallel(n_jobs=-1)]: Done   5 tasks      | elapsed:   33.8s\n",
      "[Parallel(n_jobs=-1)]: Done   6 tasks      | elapsed:   33.8s\n",
      "[Parallel(n_jobs=-1)]: Done   7 tasks      | elapsed:   34.1s\n",
      "[Parallel(n_jobs=-1)]: Done   8 tasks      | elapsed:   34.4s\n",
      "[Parallel(n_jobs=-1)]: Done   9 tasks      | elapsed:   47.4s\n",
      "[Parallel(n_jobs=-1)]: Done  10 tasks      | elapsed:   47.6s\n",
      "[Parallel(n_jobs=-1)]: Done  11 tasks      | elapsed:   49.9s\n",
      "[Parallel(n_jobs=-1)]: Done  12 tasks      | elapsed:   50.2s\n",
      "[Parallel(n_jobs=-1)]: Done  13 tasks      | elapsed:  1.0min\n",
      "[Parallel(n_jobs=-1)]: Done  14 tasks      | elapsed:  1.0min\n",
      "[Parallel(n_jobs=-1)]: Done  15 tasks      | elapsed:  1.1min\n",
      "[Parallel(n_jobs=-1)]: Done  16 tasks      | elapsed:  1.1min\n",
      "[Parallel(n_jobs=-1)]: Done  17 tasks      | elapsed:  1.2min\n",
      "[Parallel(n_jobs=-1)]: Done  18 tasks      | elapsed:  1.2min\n",
      "[Parallel(n_jobs=-1)]: Done  19 tasks      | elapsed:  1.3min\n",
      "[Parallel(n_jobs=-1)]: Done  20 tasks      | elapsed:  1.3min\n",
      "[Parallel(n_jobs=-1)]: Done  21 tasks      | elapsed:  1.4min\n",
      "[Parallel(n_jobs=-1)]: Done  22 tasks      | elapsed:  1.4min\n",
      "[Parallel(n_jobs=-1)]: Done  23 tasks      | elapsed:  1.5min\n",
      "[Parallel(n_jobs=-1)]: Done  24 tasks      | elapsed:  1.5min\n",
      "[Parallel(n_jobs=-1)]: Done  25 tasks      | elapsed:  1.6min\n",
      "[Parallel(n_jobs=-1)]: Done  26 tasks      | elapsed:  1.6min\n",
      "[Parallel(n_jobs=-1)]: Done  27 tasks      | elapsed:  1.7min\n",
      "[Parallel(n_jobs=-1)]: Done  28 tasks      | elapsed:  1.7min\n",
      "[Parallel(n_jobs=-1)]: Done  29 tasks      | elapsed:  1.8min\n",
      "[Parallel(n_jobs=-1)]: Done  30 tasks      | elapsed:  1.8min\n",
      "[Parallel(n_jobs=-1)]: Done  31 tasks      | elapsed:  1.9min\n",
      "[Parallel(n_jobs=-1)]: Done  32 tasks      | elapsed:  1.9min\n",
      "[Parallel(n_jobs=-1)]: Done  33 tasks      | elapsed:  2.0min\n",
      "[Parallel(n_jobs=-1)]: Done  34 tasks      | elapsed:  2.1min\n",
      "[Parallel(n_jobs=-1)]: Done  35 tasks      | elapsed:  2.1min\n",
      "[Parallel(n_jobs=-1)]: Done  36 tasks      | elapsed:  2.1min\n",
      "[Parallel(n_jobs=-1)]: Done  37 tasks      | elapsed:  2.3min\n",
      "[Parallel(n_jobs=-1)]: Done  38 tasks      | elapsed:  2.3min\n",
      "[Parallel(n_jobs=-1)]: Done  39 tasks      | elapsed:  2.3min\n",
      "[Parallel(n_jobs=-1)]: Done  40 tasks      | elapsed:  2.4min\n",
      "[Parallel(n_jobs=-1)]: Done  41 tasks      | elapsed:  2.5min\n",
      "[Parallel(n_jobs=-1)]: Done  42 tasks      | elapsed:  2.5min\n",
      "[Parallel(n_jobs=-1)]: Done  43 tasks      | elapsed:  2.5min\n",
      "[Parallel(n_jobs=-1)]: Done  44 tasks      | elapsed:  2.6min\n",
      "[Parallel(n_jobs=-1)]: Done  45 tasks      | elapsed:  2.7min\n",
      "[Parallel(n_jobs=-1)]: Done  46 tasks      | elapsed:  2.7min\n",
      "[Parallel(n_jobs=-1)]: Done  47 tasks      | elapsed:  2.7min\n",
      "[Parallel(n_jobs=-1)]: Done  48 tasks      | elapsed:  2.8min\n",
      "[Parallel(n_jobs=-1)]: Done  49 tasks      | elapsed:  2.8min\n",
      "[Parallel(n_jobs=-1)]: Done  50 tasks      | elapsed:  2.9min\n",
      "[Parallel(n_jobs=-1)]: Done  51 tasks      | elapsed:  3.0min\n",
      "[Parallel(n_jobs=-1)]: Done  52 tasks      | elapsed:  3.0min\n",
      "[Parallel(n_jobs=-1)]: Done  53 tasks      | elapsed:  3.1min\n",
      "[Parallel(n_jobs=-1)]: Done  54 tasks      | elapsed:  3.1min\n",
      "[Parallel(n_jobs=-1)]: Done  55 tasks      | elapsed:  3.2min\n",
      "[Parallel(n_jobs=-1)]: Done  56 tasks      | elapsed:  3.2min\n",
      "[Parallel(n_jobs=-1)]: Done  57 tasks      | elapsed:  3.3min\n",
      "[Parallel(n_jobs=-1)]: Done  58 tasks      | elapsed:  3.3min\n",
      "[Parallel(n_jobs=-1)]: Done  59 tasks      | elapsed:  3.4min\n",
      "[Parallel(n_jobs=-1)]: Done  60 tasks      | elapsed:  3.4min\n",
      "[Parallel(n_jobs=-1)]: Done  61 tasks      | elapsed:  3.5min\n",
      "[Parallel(n_jobs=-1)]: Done  62 tasks      | elapsed:  3.5min\n",
      "[Parallel(n_jobs=-1)]: Done  63 tasks      | elapsed:  3.6min\n",
      "[Parallel(n_jobs=-1)]: Done  64 tasks      | elapsed:  3.7min\n",
      "[Parallel(n_jobs=-1)]: Done  65 tasks      | elapsed:  3.7min\n",
      "[Parallel(n_jobs=-1)]: Done  66 tasks      | elapsed:  3.7min\n",
      "[Parallel(n_jobs=-1)]: Done  67 tasks      | elapsed:  3.9min\n",
      "[Parallel(n_jobs=-1)]: Done  68 tasks      | elapsed:  3.9min\n",
      "[Parallel(n_jobs=-1)]: Done  69 tasks      | elapsed:  4.0min\n",
      "[Parallel(n_jobs=-1)]: Done  70 tasks      | elapsed:  4.0min\n",
      "[Parallel(n_jobs=-1)]: Done  71 tasks      | elapsed:  4.0min\n",
      "[Parallel(n_jobs=-1)]: Done  72 tasks      | elapsed:  4.0min\n",
      "[Parallel(n_jobs=-1)]: Done  73 tasks      | elapsed:  4.1min\n",
      "[Parallel(n_jobs=-1)]: Done  74 tasks      | elapsed:  4.1min\n",
      "[Parallel(n_jobs=-1)]: Done  75 tasks      | elapsed:  4.2min\n",
      "[Parallel(n_jobs=-1)]: Done  76 tasks      | elapsed:  4.2min\n",
      "[Parallel(n_jobs=-1)]: Done  77 tasks      | elapsed:  4.3min\n",
      "[Parallel(n_jobs=-1)]: Done  78 tasks      | elapsed:  4.3min\n",
      "[Parallel(n_jobs=-1)]: Done  79 tasks      | elapsed:  4.4min\n",
      "[Parallel(n_jobs=-1)]: Done  80 tasks      | elapsed:  4.4min\n",
      "[Parallel(n_jobs=-1)]: Done  81 tasks      | elapsed:  4.5min\n",
      "[Parallel(n_jobs=-1)]: Done  82 tasks      | elapsed:  4.5min\n",
      "[Parallel(n_jobs=-1)]: Done  83 tasks      | elapsed:  4.5min\n",
      "[Parallel(n_jobs=-1)]: Done  84 tasks      | elapsed:  4.6min\n",
      "[Parallel(n_jobs=-1)]: Done  85 tasks      | elapsed:  4.6min\n",
      "[Parallel(n_jobs=-1)]: Done  86 tasks      | elapsed:  4.6min\n",
      "[Parallel(n_jobs=-1)]: Done  87 tasks      | elapsed:  4.7min\n",
      "[Parallel(n_jobs=-1)]: Done  88 tasks      | elapsed:  4.7min\n",
      "[Parallel(n_jobs=-1)]: Done  89 tasks      | elapsed:  4.8min\n",
      "[Parallel(n_jobs=-1)]: Done  90 tasks      | elapsed:  4.8min\n",
      "[Parallel(n_jobs=-1)]: Done  91 tasks      | elapsed:  5.0min\n",
      "[Parallel(n_jobs=-1)]: Done  92 tasks      | elapsed:  5.0min\n",
      "[Parallel(n_jobs=-1)]: Done  93 tasks      | elapsed:  5.0min\n",
      "[Parallel(n_jobs=-1)]: Done  94 tasks      | elapsed:  5.0min\n",
      "[Parallel(n_jobs=-1)]: Done  95 tasks      | elapsed:  5.2min\n",
      "[Parallel(n_jobs=-1)]: Done  96 tasks      | elapsed:  5.2min\n",
      "[Parallel(n_jobs=-1)]: Done  97 tasks      | elapsed:  5.3min\n",
      "[Parallel(n_jobs=-1)]: Done  98 tasks      | elapsed:  5.3min\n",
      "[Parallel(n_jobs=-1)]: Done  99 tasks      | elapsed:  5.4min\n",
      "[Parallel(n_jobs=-1)]: Done 100 tasks      | elapsed:  5.4min\n",
      "[Parallel(n_jobs=-1)]: Done 101 tasks      | elapsed:  5.4min\n",
      "[Parallel(n_jobs=-1)]: Done 102 tasks      | elapsed:  5.4min\n",
      "[Parallel(n_jobs=-1)]: Done 103 tasks      | elapsed:  5.5min\n",
      "[Parallel(n_jobs=-1)]: Done 104 tasks      | elapsed:  5.6min\n",
      "[Parallel(n_jobs=-1)]: Done 105 tasks      | elapsed:  5.6min\n",
      "[Parallel(n_jobs=-1)]: Done 106 tasks      | elapsed:  5.6min\n",
      "[Parallel(n_jobs=-1)]: Done 107 tasks      | elapsed:  5.7min\n",
      "[Parallel(n_jobs=-1)]: Done 108 tasks      | elapsed:  5.7min\n",
      "[Parallel(n_jobs=-1)]: Done 109 tasks      | elapsed:  5.8min\n",
      "[Parallel(n_jobs=-1)]: Done 110 tasks      | elapsed:  5.8min\n",
      "[Parallel(n_jobs=-1)]: Done 111 tasks      | elapsed:  5.9min\n",
      "[Parallel(n_jobs=-1)]: Done 112 tasks      | elapsed:  6.0min\n",
      "[Parallel(n_jobs=-1)]: Done 113 tasks      | elapsed:  6.0min\n",
      "[Parallel(n_jobs=-1)]: Done 114 tasks      | elapsed:  6.0min\n",
      "[Parallel(n_jobs=-1)]: Done 115 tasks      | elapsed:  6.2min\n",
      "[Parallel(n_jobs=-1)]: Done 116 tasks      | elapsed:  6.2min\n",
      "[Parallel(n_jobs=-1)]: Done 117 tasks      | elapsed:  6.2min\n",
      "[Parallel(n_jobs=-1)]: Done 118 tasks      | elapsed:  6.2min\n",
      "[Parallel(n_jobs=-1)]: Done 119 tasks      | elapsed:  6.4min\n",
      "[Parallel(n_jobs=-1)]: Done 120 tasks      | elapsed:  6.4min\n",
      "[Parallel(n_jobs=-1)]: Done 121 tasks      | elapsed:  6.5min\n",
      "[Parallel(n_jobs=-1)]: Done 122 tasks      | elapsed:  6.5min\n",
      "[Parallel(n_jobs=-1)]: Done 123 tasks      | elapsed:  6.6min\n",
      "[Parallel(n_jobs=-1)]: Done 124 tasks      | elapsed:  6.6min\n",
      "[Parallel(n_jobs=-1)]: Done 125 tasks      | elapsed:  6.7min\n",
      "[Parallel(n_jobs=-1)]: Done 126 tasks      | elapsed:  6.7min\n",
      "[Parallel(n_jobs=-1)]: Done 127 tasks      | elapsed:  6.8min\n",
      "[Parallel(n_jobs=-1)]: Done 128 tasks      | elapsed:  6.9min\n",
      "[Parallel(n_jobs=-1)]: Done 129 tasks      | elapsed:  6.9min\n",
      "[Parallel(n_jobs=-1)]: Done 130 tasks      | elapsed:  6.9min\n",
      "[Parallel(n_jobs=-1)]: Done 131 tasks      | elapsed:  7.1min\n"
     ]
    },
    {
     "name": "stderr",
     "output_type": "stream",
     "text": [
      "[Parallel(n_jobs=-1)]: Done 132 tasks      | elapsed:  7.1min\n",
      "[Parallel(n_jobs=-1)]: Done 133 tasks      | elapsed:  7.1min\n",
      "[Parallel(n_jobs=-1)]: Done 134 tasks      | elapsed:  7.1min\n",
      "[Parallel(n_jobs=-1)]: Done 135 tasks      | elapsed:  7.3min\n",
      "[Parallel(n_jobs=-1)]: Done 136 tasks      | elapsed:  7.3min\n",
      "[Parallel(n_jobs=-1)]: Done 137 tasks      | elapsed:  7.4min\n",
      "[Parallel(n_jobs=-1)]: Done 138 tasks      | elapsed:  7.4min\n",
      "[Parallel(n_jobs=-1)]: Done 139 tasks      | elapsed:  7.6min\n",
      "[Parallel(n_jobs=-1)]: Done 140 tasks      | elapsed:  7.6min\n",
      "[Parallel(n_jobs=-1)]: Done 141 tasks      | elapsed:  7.6min\n",
      "[Parallel(n_jobs=-1)]: Done 142 tasks      | elapsed:  7.6min\n",
      "[Parallel(n_jobs=-1)]: Done 143 tasks      | elapsed:  7.8min\n",
      "[Parallel(n_jobs=-1)]: Done 144 tasks      | elapsed:  7.8min\n",
      "[Parallel(n_jobs=-1)]: Done 145 tasks      | elapsed:  7.8min\n",
      "[Parallel(n_jobs=-1)]: Done 146 tasks      | elapsed:  7.8min\n",
      "[Parallel(n_jobs=-1)]: Done 147 tasks      | elapsed:  8.0min\n",
      "[Parallel(n_jobs=-1)]: Done 148 tasks      | elapsed:  8.0min\n",
      "[Parallel(n_jobs=-1)]: Done 149 tasks      | elapsed:  8.0min\n",
      "[Parallel(n_jobs=-1)]: Done 150 tasks      | elapsed:  8.0min\n",
      "[Parallel(n_jobs=-1)]: Done 151 tasks      | elapsed:  8.2min\n",
      "[Parallel(n_jobs=-1)]: Done 152 tasks      | elapsed:  8.2min\n",
      "[Parallel(n_jobs=-1)]: Done 153 tasks      | elapsed:  8.2min\n",
      "[Parallel(n_jobs=-1)]: Done 154 tasks      | elapsed:  8.3min\n",
      "[Parallel(n_jobs=-1)]: Done 155 tasks      | elapsed:  8.5min\n",
      "[Parallel(n_jobs=-1)]: Done 156 tasks      | elapsed:  8.5min\n",
      "[Parallel(n_jobs=-1)]: Done 157 tasks      | elapsed:  8.5min\n",
      "[Parallel(n_jobs=-1)]: Done 158 tasks      | elapsed:  8.5min\n",
      "[Parallel(n_jobs=-1)]: Done 159 tasks      | elapsed:  8.6min\n",
      "[Parallel(n_jobs=-1)]: Done 160 tasks      | elapsed:  8.6min\n",
      "[Parallel(n_jobs=-1)]: Done 161 tasks      | elapsed:  8.7min\n",
      "[Parallel(n_jobs=-1)]: Done 162 tasks      | elapsed:  8.8min\n",
      "[Parallel(n_jobs=-1)]: Done 163 tasks      | elapsed:  8.8min\n",
      "[Parallel(n_jobs=-1)]: Done 164 tasks      | elapsed:  8.8min\n",
      "[Parallel(n_jobs=-1)]: Done 165 tasks      | elapsed:  8.9min\n",
      "[Parallel(n_jobs=-1)]: Done 166 tasks      | elapsed:  8.9min\n",
      "[Parallel(n_jobs=-1)]: Done 167 tasks      | elapsed:  8.9min\n",
      "[Parallel(n_jobs=-1)]: Done 168 tasks      | elapsed:  8.9min\n",
      "[Parallel(n_jobs=-1)]: Done 169 tasks      | elapsed:  9.0min\n",
      "[Parallel(n_jobs=-1)]: Done 170 tasks      | elapsed:  9.0min\n",
      "[Parallel(n_jobs=-1)]: Done 171 tasks      | elapsed:  9.1min\n",
      "[Parallel(n_jobs=-1)]: Done 172 tasks      | elapsed:  9.1min\n",
      "[Parallel(n_jobs=-1)]: Done 173 tasks      | elapsed:  9.2min\n",
      "[Parallel(n_jobs=-1)]: Done 174 tasks      | elapsed:  9.2min\n",
      "[Parallel(n_jobs=-1)]: Done 175 tasks      | elapsed:  9.3min\n",
      "[Parallel(n_jobs=-1)]: Done 176 tasks      | elapsed:  9.4min\n",
      "[Parallel(n_jobs=-1)]: Done 177 tasks      | elapsed:  9.4min\n",
      "[Parallel(n_jobs=-1)]: Done 178 tasks      | elapsed:  9.5min\n",
      "[Parallel(n_jobs=-1)]: Done 179 tasks      | elapsed:  9.6min\n",
      "[Parallel(n_jobs=-1)]: Done 180 tasks      | elapsed:  9.6min\n",
      "[Parallel(n_jobs=-1)]: Done 181 tasks      | elapsed:  9.7min\n",
      "[Parallel(n_jobs=-1)]: Done 182 tasks      | elapsed:  9.7min\n",
      "[Parallel(n_jobs=-1)]: Done 183 tasks      | elapsed:  9.8min\n",
      "[Parallel(n_jobs=-1)]: Done 184 tasks      | elapsed:  9.8min\n",
      "[Parallel(n_jobs=-1)]: Done 185 tasks      | elapsed:  9.9min\n",
      "[Parallel(n_jobs=-1)]: Done 186 tasks      | elapsed:  9.9min\n",
      "[Parallel(n_jobs=-1)]: Done 187 tasks      | elapsed: 10.0min\n",
      "[Parallel(n_jobs=-1)]: Done 188 tasks      | elapsed: 10.0min\n",
      "[Parallel(n_jobs=-1)]: Done 189 tasks      | elapsed: 10.1min\n",
      "[Parallel(n_jobs=-1)]: Done 190 tasks      | elapsed: 10.1min\n",
      "[Parallel(n_jobs=-1)]: Done 191 tasks      | elapsed: 10.1min\n",
      "[Parallel(n_jobs=-1)]: Done 192 tasks      | elapsed: 10.2min\n",
      "[Parallel(n_jobs=-1)]: Done 193 tasks      | elapsed: 10.2min\n",
      "[Parallel(n_jobs=-1)]: Done 200 out of 200 | elapsed: 10.3min finished\n"
     ]
    },
    {
     "data": {
      "text/plain": [
       "RandomizedSearchCV(cv=10, error_score=nan,\n",
       "                   estimator=DecisionTreeClassifier(ccp_alpha=0.0,\n",
       "                                                    class_weight=None,\n",
       "                                                    criterion='gini',\n",
       "                                                    max_depth=None,\n",
       "                                                    max_features=None,\n",
       "                                                    max_leaf_nodes=None,\n",
       "                                                    min_impurity_decrease=0.0,\n",
       "                                                    min_impurity_split=None,\n",
       "                                                    min_samples_leaf=1,\n",
       "                                                    min_samples_split=2,\n",
       "                                                    min_weight_fraction_leaf=0.0,\n",
       "                                                    presort='deprecated',\n",
       "                                                    random_state=None,\n",
       "                                                    splitter='best'),\n",
       "                   iid='deprecated', n_iter=20, n_jobs=-1,\n",
       "                   param_distributions={'class_weight': [None, 'balanced'],\n",
       "                                        'criterion': ['entropy', 'gini'],\n",
       "                                        'max_depth': [None, 5, 10, 15, 20, 30,\n",
       "                                                      50, 70],\n",
       "                                        'min_samples_leaf': [1, 2, 5, 10, 15,\n",
       "                                                             20],\n",
       "                                        'min_samples_split': [2, 5, 10, 15,\n",
       "                                                              20]},\n",
       "                   pre_dispatch='2*n_jobs', random_state=None, refit=True,\n",
       "                   return_train_score=False, scoring='roc_auc', verbose=20)"
      ]
     },
     "execution_count": 101,
     "metadata": {},
     "output_type": "execute_result"
    }
   ],
   "source": [
    "random_search.fit(X_train,y_train)"
   ]
  },
  {
   "cell_type": "markdown",
   "metadata": {},
   "source": [
    "### Report function***\n"
   ]
  },
  {
   "cell_type": "code",
   "execution_count": 102,
   "metadata": {},
   "outputs": [],
   "source": [
    "def report(results, n_top=3):\n",
    "    for i in range(1,n_top+1):\n",
    "        candidates = np.flatnonzero(results['rank_test_score']== i)\n",
    "        \n",
    "        for candidate in candidates:\n",
    "            print('Model with rank: {0}'.format(i))\n",
    "            print('Mean Validation Score: {0:.8f} (std:{1:.3f})'.format(\n",
    "                    results['mean_test_score'][candidate],\n",
    "                    results['std_test_score'][candidate]))\n",
    "            print(\"Parameters:{0}\".format(results['params'][candidate]))\n",
    "            print(\"\")"
   ]
  },
  {
   "cell_type": "code",
   "execution_count": 103,
   "metadata": {},
   "outputs": [
    {
     "name": "stdout",
     "output_type": "stream",
     "text": [
      "Model with rank: 1\n",
      "Mean Validation Score: 0.62270865 (std:0.003)\n",
      "Parameters:{'min_samples_split': 2, 'min_samples_leaf': 1, 'max_depth': 15, 'criterion': 'entropy', 'class_weight': 'balanced'}\n",
      "\n",
      "Model with rank: 2\n",
      "Mean Validation Score: 0.62083123 (std:0.003)\n",
      "Parameters:{'min_samples_split': 20, 'min_samples_leaf': 15, 'max_depth': 15, 'criterion': 'gini', 'class_weight': None}\n",
      "\n",
      "Model with rank: 3\n",
      "Mean Validation Score: 0.61308309 (std:0.002)\n",
      "Parameters:{'min_samples_split': 20, 'min_samples_leaf': 1, 'max_depth': 5, 'criterion': 'entropy', 'class_weight': None}\n",
      "\n",
      "Model with rank: 4\n",
      "Mean Validation Score: 0.60857458 (std:0.001)\n",
      "Parameters:{'min_samples_split': 10, 'min_samples_leaf': 1, 'max_depth': 20, 'criterion': 'gini', 'class_weight': None}\n",
      "\n",
      "Model with rank: 5\n",
      "Mean Validation Score: 0.60774761 (std:0.003)\n",
      "Parameters:{'min_samples_split': 2, 'min_samples_leaf': 5, 'max_depth': 20, 'criterion': 'entropy', 'class_weight': None}\n",
      "\n"
     ]
    }
   ],
   "source": [
    "report(random_search.cv_results_,5)"
   ]
  },
  {
   "cell_type": "code",
   "execution_count": 104,
   "metadata": {},
   "outputs": [
    {
     "data": {
      "text/plain": [
       "DecisionTreeClassifier(ccp_alpha=0.0, class_weight='balanced',\n",
       "                       criterion='entropy', max_depth=15, max_features=None,\n",
       "                       max_leaf_nodes=None, min_impurity_decrease=0.0,\n",
       "                       min_impurity_split=None, min_samples_leaf=1,\n",
       "                       min_samples_split=2, min_weight_fraction_leaf=0.0,\n",
       "                       presort='deprecated', random_state=None,\n",
       "                       splitter='best')"
      ]
     },
     "execution_count": 104,
     "metadata": {},
     "output_type": "execute_result"
    }
   ],
   "source": [
    "random_search.best_estimator_"
   ]
  },
  {
   "cell_type": "code",
   "execution_count": 105,
   "metadata": {},
   "outputs": [],
   "source": [
    "dtree=random_search.best_estimator_"
   ]
  },
  {
   "cell_type": "code",
   "execution_count": 106,
   "metadata": {},
   "outputs": [
    {
     "data": {
      "text/plain": [
       "DecisionTreeClassifier(ccp_alpha=0.0, class_weight='balanced',\n",
       "                       criterion='entropy', max_depth=15, max_features=None,\n",
       "                       max_leaf_nodes=None, min_impurity_decrease=0.0,\n",
       "                       min_impurity_split=None, min_samples_leaf=1,\n",
       "                       min_samples_split=2, min_weight_fraction_leaf=0.0,\n",
       "                       presort='deprecated', random_state=None,\n",
       "                       splitter='best')"
      ]
     },
     "execution_count": 106,
     "metadata": {},
     "output_type": "execute_result"
    }
   ],
   "source": [
    "dtree.fit(X_train,y_train)"
   ]
  },
  {
   "cell_type": "code",
   "execution_count": 107,
   "metadata": {},
   "outputs": [
    {
     "data": {
      "text/plain": [
       "array([[0.52483337, 0.47516663],\n",
       "       [0.66012282, 0.33987718],\n",
       "       [0.40840788, 0.59159212],\n",
       "       ...,\n",
       "       [0.52397877, 0.47602123],\n",
       "       [0.47642312, 0.52357688],\n",
       "       [0.5043743 , 0.4956257 ]])"
      ]
     },
     "execution_count": 107,
     "metadata": {},
     "output_type": "execute_result"
    }
   ],
   "source": [
    "dtree.predict_proba(X_train)"
   ]
  },
  {
   "cell_type": "code",
   "execution_count": 108,
   "metadata": {},
   "outputs": [
    {
     "data": {
      "text/plain": [
       "array([0, 1])"
      ]
     },
     "execution_count": 108,
     "metadata": {},
     "output_type": "execute_result"
    }
   ],
   "source": [
    "dtree.classes_"
   ]
  },
  {
   "cell_type": "code",
   "execution_count": 109,
   "metadata": {},
   "outputs": [
    {
     "data": {
      "text/plain": [
       "array([0.47516663, 0.33987718, 0.59159212, ..., 0.47602123, 0.52357688,\n",
       "       0.4956257 ])"
      ]
     },
     "execution_count": 109,
     "metadata": {},
     "output_type": "execute_result"
    }
   ],
   "source": [
    "train_score=dtree.predict_proba(X_train)[:,1]\n",
    "train_score"
   ]
  },
  {
   "cell_type": "code",
   "execution_count": 110,
   "metadata": {},
   "outputs": [],
   "source": [
    "real = y_train"
   ]
  },
  {
   "cell_type": "code",
   "execution_count": 111,
   "metadata": {},
   "outputs": [
    {
     "data": {
      "text/plain": [
       "array([0.01, 0.02, 0.03, 0.04, 0.05, 0.06, 0.07, 0.08, 0.09, 0.1 , 0.11,\n",
       "       0.12, 0.13, 0.14, 0.15, 0.16, 0.17, 0.18, 0.19, 0.2 , 0.21, 0.22,\n",
       "       0.23, 0.24, 0.25, 0.26, 0.27, 0.28, 0.29, 0.3 , 0.31, 0.32, 0.33,\n",
       "       0.34, 0.35, 0.36, 0.37, 0.38, 0.39, 0.4 , 0.41, 0.42, 0.43, 0.44,\n",
       "       0.45, 0.46, 0.47, 0.48, 0.49, 0.5 , 0.51, 0.52, 0.53, 0.54, 0.55,\n",
       "       0.56, 0.57, 0.58, 0.59, 0.6 , 0.61, 0.62, 0.63, 0.64, 0.65, 0.66,\n",
       "       0.67, 0.68, 0.69, 0.7 , 0.71, 0.72, 0.73, 0.74, 0.75, 0.76, 0.77,\n",
       "       0.78, 0.79, 0.8 , 0.81, 0.82, 0.83, 0.84, 0.85, 0.86, 0.87, 0.88,\n",
       "       0.89, 0.9 , 0.91, 0.92, 0.93, 0.94, 0.95, 0.96, 0.97, 0.98, 0.99])"
      ]
     },
     "execution_count": 111,
     "metadata": {},
     "output_type": "execute_result"
    }
   ],
   "source": [
    "cutoffs = np.linspace(0.01,0.99,99)\n",
    "cutoffs"
   ]
  },
  {
   "cell_type": "code",
   "execution_count": 112,
   "metadata": {},
   "outputs": [],
   "source": [
    "KS_all =[]\n",
    "for cutoff in cutoffs:\n",
    "    \n",
    "    predicted = (train_score > cutoff).astype(int)\n",
    "    \n",
    "    TP = ((real==1)&(predicted==1)).sum()\n",
    "    FP= ((real==0) &(predicted==1)).sum()\n",
    "    TN = ((real==0)&(predicted==0)).sum()\n",
    "    FN = ((real==1)&(predicted==0)).sum()\n",
    "    \n",
    "    P = TP+FN\n",
    "    N = TN+FP\n",
    "    \n",
    "    KS = (TP/P)-(FP/N)\n",
    "    \n",
    "    KS_all.append(KS)"
   ]
  },
  {
   "cell_type": "code",
   "execution_count": 113,
   "metadata": {},
   "outputs": [
    {
     "data": {
      "text/plain": [
       "[(0.01, 0.047411004846591),\n",
       " (0.02, 0.04834745362311321),\n",
       " (0.03, 0.04891236359871076),\n",
       " (0.04, 0.04922847527011742),\n",
       " (0.05, 0.04972800618402906),\n",
       " (0.060000000000000005, 0.049924694669424174),\n",
       " (0.06999999999999999, 0.050251725425763616),\n",
       " (0.08, 0.05094656181987789),\n",
       " (0.09, 0.052739147658637076),\n",
       " (0.09999999999999999, 0.053643525928609326),\n",
       " (0.11, 0.05489677312478647),\n",
       " (0.12, 0.05528973424314931),\n",
       " (0.13, 0.05543431290974887),\n",
       " (0.14, 0.05608090809612776),\n",
       " (0.15000000000000002, 0.058970266718070485),\n",
       " (0.16, 0.05996959944171443),\n",
       " (0.17, 0.06163459951121797),\n",
       " (0.18000000000000002, 0.06220779800927356),\n",
       " (0.19, 0.06784039911606399),\n",
       " (0.2, 0.06946005943612721),\n",
       " (0.21000000000000002, 0.07202099478784185),\n",
       " (0.22, 0.07485657067258322),\n",
       " (0.23, 0.08331864532561495),\n",
       " (0.24000000000000002, 0.09269516661130417),\n",
       " (0.25, 0.09289862516605485),\n",
       " (0.26, 0.09289862516605485),\n",
       " (0.27, 0.09805984971094173),\n",
       " (0.28, 0.10814455502936804),\n",
       " (0.29000000000000004, 0.11808327965860965),\n",
       " (0.3, 0.12862005884458516),\n",
       " (0.31, 0.1349936986520357),\n",
       " (0.32, 0.13845397450111252),\n",
       " (0.33, 0.14612461624020323),\n",
       " (0.34, 0.1592999857297771),\n",
       " (0.35000000000000003, 0.1652132939994707),\n",
       " (0.36000000000000004, 0.1868990528891712),\n",
       " (0.37, 0.18952956618779226),\n",
       " (0.38, 0.19239572497823165),\n",
       " (0.39, 0.1990398110858117),\n",
       " (0.4, 0.20039250153409438),\n",
       " (0.41000000000000003, 0.20403839464449247),\n",
       " (0.42000000000000004, 0.20852719593518432),\n",
       " (0.43, 0.21130061730816097),\n",
       " (0.44, 0.21261026111278292),\n",
       " (0.45, 0.220854842416095),\n",
       " (0.46, 0.22461414893075682),\n",
       " (0.47000000000000003, 0.22888140547332603),\n",
       " (0.48000000000000004, 0.23030545836106597),\n",
       " (0.49, 0.2318132993914403),\n",
       " (0.5, 0.23218756829007708),\n",
       " (0.51, 0.23073928336715926),\n",
       " (0.52, 0.23019946696359894),\n",
       " (0.53, 0.22603408141062814),\n",
       " (0.54, 0.2210114135076362),\n",
       " (0.55, 0.21632597319309405),\n",
       " (0.56, 0.20536125778155145),\n",
       " (0.5700000000000001, 0.18636382861459908),\n",
       " (0.5800000000000001, 0.17791729688474583),\n",
       " (0.59, 0.1643756347419792),\n",
       " (0.6, 0.14546943425213238),\n",
       " (0.61, 0.13152796019975324),\n",
       " (0.62, 0.12625297973348543),\n",
       " (0.63, 0.11950641073333386),\n",
       " (0.64, 0.11548566130723906),\n",
       " (0.65, 0.10554311287615847),\n",
       " (0.66, 0.09938590124038976),\n",
       " (0.67, 0.09443228173561957),\n",
       " (0.68, 0.08541568603109054),\n",
       " (0.6900000000000001, 0.08295285128723631),\n",
       " (0.7000000000000001, 0.07894821318398716),\n",
       " (0.7100000000000001, 0.07830779873184061),\n",
       " (0.72, 0.07435445775992504),\n",
       " (0.73, 0.07289711513039278),\n",
       " (0.74, 0.07184008351500554),\n",
       " (0.75, 0.07075886357179542),\n",
       " (0.76, 0.07024493228822923),\n",
       " (0.77, 0.06883874183342387),\n",
       " (0.78, 0.06830725684347988),\n",
       " (0.79, 0.06662710309519952),\n",
       " (0.8, 0.06509112166978762),\n",
       " (0.81, 0.06350731488906768),\n",
       " (0.8200000000000001, 0.06302255265375632),\n",
       " (0.8300000000000001, 0.06236514530426604),\n",
       " (0.8400000000000001, 0.062168863162601944),\n",
       " (0.85, 0.061034159904100105),\n",
       " (0.86, 0.060185586581288045),\n",
       " (0.87, 0.05946943479155704),\n",
       " (0.88, 0.05875231584906097),\n",
       " (0.89, 0.056964218808735756),\n",
       " (0.9, 0.056562118445667296),\n",
       " (0.91, 0.05613209659162607),\n",
       " (0.92, 0.055103140932514595),\n",
       " (0.93, 0.055023660923083896),\n",
       " (0.9400000000000001, 0.05453116146565204),\n",
       " (0.9500000000000001, 0.052975566089118215),\n",
       " (0.9600000000000001, 0.05262308993897757),\n",
       " (0.97, 0.05199430033740442),\n",
       " (0.98, 0.05174259106622215),\n",
       " (0.99, 0.05174259106622215)]"
      ]
     },
     "execution_count": 113,
     "metadata": {},
     "output_type": "execute_result"
    }
   ],
   "source": [
    "list(zip(cutoffs,KS_all))"
   ]
  },
  {
   "cell_type": "code",
   "execution_count": 114,
   "metadata": {},
   "outputs": [
    {
     "data": {
      "text/plain": [
       "0.5"
      ]
     },
     "execution_count": 114,
     "metadata": {},
     "output_type": "execute_result"
    }
   ],
   "source": [
    "mycutoff = cutoffs[KS_all==max(KS_all)][0]\n",
    "mycutoff"
   ]
  },
  {
   "cell_type": "code",
   "execution_count": 115,
   "metadata": {},
   "outputs": [
    {
     "data": {
      "text/plain": [
       "array([0.35921263, 0.29479802, 0.52357688, ..., 0.53890199, 0.53890199,\n",
       "       0.54985352])"
      ]
     },
     "execution_count": 115,
     "metadata": {},
     "output_type": "execute_result"
    }
   ],
   "source": [
    "test_score=dtree.predict_proba(X_val)[:,1]\n",
    "test_score"
   ]
  },
  {
   "cell_type": "code",
   "execution_count": 116,
   "metadata": {},
   "outputs": [
    {
     "data": {
      "text/plain": [
       "array([0, 0, 1, ..., 1, 1, 1])"
      ]
     },
     "execution_count": 116,
     "metadata": {},
     "output_type": "execute_result"
    }
   ],
   "source": [
    "test_classes = (test_score>mycutoff).astype(int)\n",
    "test_classes"
   ]
  },
  {
   "cell_type": "code",
   "execution_count": 117,
   "metadata": {},
   "outputs": [],
   "source": [
    "real_y = y_val"
   ]
  },
  {
   "cell_type": "code",
   "execution_count": 118,
   "metadata": {},
   "outputs": [],
   "source": [
    "TP = ((real_y==1)&(test_classes==1)).sum()\n",
    "FP= ((real_y==0) &(test_classes==1)).sum()\n",
    "TN = ((real_y==0)&(test_classes==0)).sum()\n",
    "FN = ((real_y==1)&(test_classes==0)).sum()\n",
    "    \n",
    "P = TP+FN\n",
    "N = TN+FP"
   ]
  },
  {
   "cell_type": "code",
   "execution_count": 119,
   "metadata": {},
   "outputs": [
    {
     "data": {
      "text/plain": [
       "((95685,), (95685,))"
      ]
     },
     "execution_count": 119,
     "metadata": {},
     "output_type": "execute_result"
    }
   ],
   "source": [
    "test_classes.shape,real_y.shape"
   ]
  },
  {
   "cell_type": "code",
   "execution_count": 120,
   "metadata": {},
   "outputs": [
    {
     "data": {
      "text/plain": [
       "0.17941137349427533"
      ]
     },
     "execution_count": 120,
     "metadata": {},
     "output_type": "execute_result"
    }
   ],
   "source": [
    "KS = (TP/P)-(FP/N)\n",
    "KS"
   ]
  },
  {
   "cell_type": "code",
   "execution_count": 121,
   "metadata": {},
   "outputs": [],
   "source": [
    "from sklearn.metrics import roc_auc_score"
   ]
  },
  {
   "cell_type": "code",
   "execution_count": 122,
   "metadata": {},
   "outputs": [
    {
     "data": {
      "text/plain": [
       "0.5897056867471376"
      ]
     },
     "execution_count": 122,
     "metadata": {},
     "output_type": "execute_result"
    }
   ],
   "source": [
    "score = roc_auc_score(real_y,test_classes)\n",
    "score"
   ]
  },
  {
   "cell_type": "code",
   "execution_count": 123,
   "metadata": {},
   "outputs": [
    {
     "name": "stdout",
     "output_type": "stream",
     "text": [
      "Fitting 10 folds for each of 20 candidates, totalling 200 fits\n"
     ]
    },
    {
     "name": "stderr",
     "output_type": "stream",
     "text": [
      "[Parallel(n_jobs=-1)]: Using backend LokyBackend with 4 concurrent workers.\n",
      "[Parallel(n_jobs=-1)]: Done   1 tasks      | elapsed:   15.3s\n",
      "[Parallel(n_jobs=-1)]: Done   2 tasks      | elapsed:   15.5s\n",
      "[Parallel(n_jobs=-1)]: Done   3 tasks      | elapsed:   15.5s\n",
      "[Parallel(n_jobs=-1)]: Done   4 tasks      | elapsed:   15.6s\n",
      "[Parallel(n_jobs=-1)]: Done   5 tasks      | elapsed:   30.7s\n",
      "[Parallel(n_jobs=-1)]: Done   6 tasks      | elapsed:   30.8s\n",
      "[Parallel(n_jobs=-1)]: Done   7 tasks      | elapsed:   31.0s\n",
      "[Parallel(n_jobs=-1)]: Done   8 tasks      | elapsed:   31.2s\n",
      "[Parallel(n_jobs=-1)]: Done   9 tasks      | elapsed:   46.2s\n",
      "[Parallel(n_jobs=-1)]: Done  10 tasks      | elapsed:   46.7s\n",
      "[Parallel(n_jobs=-1)]: Done  11 tasks      | elapsed:   47.5s\n",
      "[Parallel(n_jobs=-1)]: Done  12 tasks      | elapsed:   47.7s\n",
      "[Parallel(n_jobs=-1)]: Done  13 tasks      | elapsed:  1.1min\n",
      "[Parallel(n_jobs=-1)]: Done  14 tasks      | elapsed:  1.1min\n",
      "[Parallel(n_jobs=-1)]: Done  15 tasks      | elapsed:  1.1min\n",
      "[Parallel(n_jobs=-1)]: Done  16 tasks      | elapsed:  1.1min\n",
      "[Parallel(n_jobs=-1)]: Done  17 tasks      | elapsed:  1.4min\n",
      "[Parallel(n_jobs=-1)]: Done  18 tasks      | elapsed:  1.4min\n",
      "[Parallel(n_jobs=-1)]: Done  19 tasks      | elapsed:  1.4min\n",
      "[Parallel(n_jobs=-1)]: Done  20 tasks      | elapsed:  1.4min\n",
      "[Parallel(n_jobs=-1)]: Done  21 tasks      | elapsed:  1.5min\n",
      "[Parallel(n_jobs=-1)]: Done  22 tasks      | elapsed:  1.5min\n",
      "[Parallel(n_jobs=-1)]: Done  23 tasks      | elapsed:  1.5min\n",
      "[Parallel(n_jobs=-1)]: Done  24 tasks      | elapsed:  1.5min\n",
      "[Parallel(n_jobs=-1)]: Done  25 tasks      | elapsed:  1.6min\n",
      "[Parallel(n_jobs=-1)]: Done  26 tasks      | elapsed:  1.6min\n",
      "[Parallel(n_jobs=-1)]: Done  27 tasks      | elapsed:  1.6min\n",
      "[Parallel(n_jobs=-1)]: Done  28 tasks      | elapsed:  1.6min\n",
      "[Parallel(n_jobs=-1)]: Done  29 tasks      | elapsed:  1.7min\n",
      "[Parallel(n_jobs=-1)]: Done  30 tasks      | elapsed:  1.7min\n",
      "[Parallel(n_jobs=-1)]: Done  31 tasks      | elapsed:  1.7min\n",
      "[Parallel(n_jobs=-1)]: Done  32 tasks      | elapsed:  1.7min\n",
      "[Parallel(n_jobs=-1)]: Done  33 tasks      | elapsed:  1.8min\n",
      "[Parallel(n_jobs=-1)]: Done  34 tasks      | elapsed:  1.8min\n",
      "[Parallel(n_jobs=-1)]: Done  35 tasks      | elapsed:  1.8min\n",
      "[Parallel(n_jobs=-1)]: Done  36 tasks      | elapsed:  1.8min\n",
      "[Parallel(n_jobs=-1)]: Done  37 tasks      | elapsed:  1.9min\n",
      "[Parallel(n_jobs=-1)]: Done  38 tasks      | elapsed:  1.9min\n",
      "[Parallel(n_jobs=-1)]: Done  39 tasks      | elapsed:  1.9min\n",
      "[Parallel(n_jobs=-1)]: Done  40 tasks      | elapsed:  1.9min\n",
      "[Parallel(n_jobs=-1)]: Done  41 tasks      | elapsed:  2.1min\n",
      "[Parallel(n_jobs=-1)]: Done  42 tasks      | elapsed:  2.1min\n",
      "[Parallel(n_jobs=-1)]: Done  43 tasks      | elapsed:  2.1min\n",
      "[Parallel(n_jobs=-1)]: Done  44 tasks      | elapsed:  2.1min\n",
      "[Parallel(n_jobs=-1)]: Done  45 tasks      | elapsed:  2.3min\n",
      "[Parallel(n_jobs=-1)]: Done  46 tasks      | elapsed:  2.3min\n",
      "[Parallel(n_jobs=-1)]: Done  47 tasks      | elapsed:  2.3min\n",
      "[Parallel(n_jobs=-1)]: Done  48 tasks      | elapsed:  2.3min\n",
      "[Parallel(n_jobs=-1)]: Done  49 tasks      | elapsed:  2.4min\n",
      "[Parallel(n_jobs=-1)]: Done  50 tasks      | elapsed:  2.4min\n",
      "[Parallel(n_jobs=-1)]: Done  51 tasks      | elapsed:  2.6min\n",
      "[Parallel(n_jobs=-1)]: Done  52 tasks      | elapsed:  2.6min\n",
      "[Parallel(n_jobs=-1)]: Done  53 tasks      | elapsed:  2.7min\n",
      "[Parallel(n_jobs=-1)]: Done  54 tasks      | elapsed:  2.7min\n",
      "[Parallel(n_jobs=-1)]: Done  55 tasks      | elapsed:  2.9min\n",
      "[Parallel(n_jobs=-1)]: Done  56 tasks      | elapsed:  2.9min\n",
      "[Parallel(n_jobs=-1)]: Done  57 tasks      | elapsed:  3.0min\n",
      "[Parallel(n_jobs=-1)]: Done  58 tasks      | elapsed:  3.0min\n",
      "[Parallel(n_jobs=-1)]: Done  59 tasks      | elapsed:  3.1min\n",
      "[Parallel(n_jobs=-1)]: Done  60 tasks      | elapsed:  3.1min\n",
      "[Parallel(n_jobs=-1)]: Done  61 tasks      | elapsed:  3.3min\n",
      "[Parallel(n_jobs=-1)]: Done  62 tasks      | elapsed:  3.4min\n",
      "[Parallel(n_jobs=-1)]: Done  63 tasks      | elapsed:  3.5min\n",
      "[Parallel(n_jobs=-1)]: Done  64 tasks      | elapsed:  3.5min\n",
      "[Parallel(n_jobs=-1)]: Done  65 tasks      | elapsed:  3.7min\n",
      "[Parallel(n_jobs=-1)]: Done  66 tasks      | elapsed:  3.7min\n",
      "[Parallel(n_jobs=-1)]: Done  67 tasks      | elapsed:  3.8min\n",
      "[Parallel(n_jobs=-1)]: Done  68 tasks      | elapsed:  3.8min\n",
      "[Parallel(n_jobs=-1)]: Done  69 tasks      | elapsed:  4.0min\n",
      "[Parallel(n_jobs=-1)]: Done  70 tasks      | elapsed:  4.0min\n",
      "[Parallel(n_jobs=-1)]: Done  71 tasks      | elapsed:  4.0min\n",
      "[Parallel(n_jobs=-1)]: Done  72 tasks      | elapsed:  4.0min\n",
      "[Parallel(n_jobs=-1)]: Done  73 tasks      | elapsed:  4.2min\n",
      "[Parallel(n_jobs=-1)]: Done  74 tasks      | elapsed:  4.2min\n",
      "[Parallel(n_jobs=-1)]: Done  75 tasks      | elapsed:  4.3min\n",
      "[Parallel(n_jobs=-1)]: Done  76 tasks      | elapsed:  4.3min\n",
      "[Parallel(n_jobs=-1)]: Done  77 tasks      | elapsed:  4.5min\n",
      "[Parallel(n_jobs=-1)]: Done  78 tasks      | elapsed:  4.5min\n",
      "[Parallel(n_jobs=-1)]: Done  79 tasks      | elapsed:  4.5min\n",
      "[Parallel(n_jobs=-1)]: Done  80 tasks      | elapsed:  4.6min\n",
      "[Parallel(n_jobs=-1)]: Done  81 tasks      | elapsed:  4.6min\n",
      "[Parallel(n_jobs=-1)]: Done  82 tasks      | elapsed:  4.6min\n",
      "[Parallel(n_jobs=-1)]: Done  83 tasks      | elapsed:  4.7min\n",
      "[Parallel(n_jobs=-1)]: Done  84 tasks      | elapsed:  4.7min\n",
      "[Parallel(n_jobs=-1)]: Done  85 tasks      | elapsed:  4.8min\n",
      "[Parallel(n_jobs=-1)]: Done  86 tasks      | elapsed:  4.8min\n",
      "[Parallel(n_jobs=-1)]: Done  87 tasks      | elapsed:  4.8min\n",
      "[Parallel(n_jobs=-1)]: Done  88 tasks      | elapsed:  4.8min\n",
      "[Parallel(n_jobs=-1)]: Done  89 tasks      | elapsed:  4.9min\n",
      "[Parallel(n_jobs=-1)]: Done  90 tasks      | elapsed:  4.9min\n",
      "[Parallel(n_jobs=-1)]: Done  91 tasks      | elapsed:  5.1min\n",
      "[Parallel(n_jobs=-1)]: Done  92 tasks      | elapsed:  5.1min\n",
      "[Parallel(n_jobs=-1)]: Done  93 tasks      | elapsed:  5.2min\n",
      "[Parallel(n_jobs=-1)]: Done  94 tasks      | elapsed:  5.2min\n",
      "[Parallel(n_jobs=-1)]: Done  95 tasks      | elapsed:  5.4min\n",
      "[Parallel(n_jobs=-1)]: Done  96 tasks      | elapsed:  5.4min\n",
      "[Parallel(n_jobs=-1)]: Done  97 tasks      | elapsed:  5.5min\n",
      "[Parallel(n_jobs=-1)]: Done  98 tasks      | elapsed:  5.5min\n",
      "[Parallel(n_jobs=-1)]: Done  99 tasks      | elapsed:  5.6min\n",
      "[Parallel(n_jobs=-1)]: Done 100 tasks      | elapsed:  5.6min\n",
      "[Parallel(n_jobs=-1)]: Done 101 tasks      | elapsed:  5.7min\n",
      "[Parallel(n_jobs=-1)]: Done 102 tasks      | elapsed:  5.7min\n",
      "[Parallel(n_jobs=-1)]: Done 103 tasks      | elapsed:  5.8min\n",
      "[Parallel(n_jobs=-1)]: Done 104 tasks      | elapsed:  5.8min\n",
      "[Parallel(n_jobs=-1)]: Done 105 tasks      | elapsed:  5.9min\n",
      "[Parallel(n_jobs=-1)]: Done 106 tasks      | elapsed:  5.9min\n",
      "[Parallel(n_jobs=-1)]: Done 107 tasks      | elapsed:  6.0min\n",
      "[Parallel(n_jobs=-1)]: Done 108 tasks      | elapsed:  6.0min\n",
      "[Parallel(n_jobs=-1)]: Done 109 tasks      | elapsed:  6.0min\n",
      "[Parallel(n_jobs=-1)]: Done 110 tasks      | elapsed:  6.0min\n",
      "[Parallel(n_jobs=-1)]: Done 111 tasks      | elapsed:  6.1min\n",
      "[Parallel(n_jobs=-1)]: Done 112 tasks      | elapsed:  6.1min\n",
      "[Parallel(n_jobs=-1)]: Done 113 tasks      | elapsed:  6.2min\n",
      "[Parallel(n_jobs=-1)]: Done 114 tasks      | elapsed:  6.2min\n",
      "[Parallel(n_jobs=-1)]: Done 115 tasks      | elapsed:  6.3min\n",
      "[Parallel(n_jobs=-1)]: Done 116 tasks      | elapsed:  6.3min\n",
      "[Parallel(n_jobs=-1)]: Done 117 tasks      | elapsed:  6.3min\n",
      "[Parallel(n_jobs=-1)]: Done 118 tasks      | elapsed:  6.3min\n",
      "[Parallel(n_jobs=-1)]: Done 119 tasks      | elapsed:  6.4min\n",
      "[Parallel(n_jobs=-1)]: Done 120 tasks      | elapsed:  6.4min\n",
      "[Parallel(n_jobs=-1)]: Done 121 tasks      | elapsed:  6.4min\n",
      "[Parallel(n_jobs=-1)]: Done 122 tasks      | elapsed:  6.4min\n",
      "[Parallel(n_jobs=-1)]: Done 123 tasks      | elapsed:  6.5min\n",
      "[Parallel(n_jobs=-1)]: Done 124 tasks      | elapsed:  6.5min\n",
      "[Parallel(n_jobs=-1)]: Done 125 tasks      | elapsed:  6.5min\n",
      "[Parallel(n_jobs=-1)]: Done 126 tasks      | elapsed:  6.5min\n",
      "[Parallel(n_jobs=-1)]: Done 127 tasks      | elapsed:  6.6min\n",
      "[Parallel(n_jobs=-1)]: Done 128 tasks      | elapsed:  6.6min\n",
      "[Parallel(n_jobs=-1)]: Done 129 tasks      | elapsed:  6.6min\n",
      "[Parallel(n_jobs=-1)]: Done 130 tasks      | elapsed:  6.7min\n",
      "[Parallel(n_jobs=-1)]: Done 131 tasks      | elapsed:  6.8min\n",
      "[Parallel(n_jobs=-1)]: Done 132 tasks      | elapsed:  6.8min\n"
     ]
    },
    {
     "name": "stderr",
     "output_type": "stream",
     "text": [
      "[Parallel(n_jobs=-1)]: Done 133 tasks      | elapsed:  6.8min\n",
      "[Parallel(n_jobs=-1)]: Done 134 tasks      | elapsed:  6.8min\n",
      "[Parallel(n_jobs=-1)]: Done 135 tasks      | elapsed:  6.9min\n",
      "[Parallel(n_jobs=-1)]: Done 136 tasks      | elapsed:  6.9min\n",
      "[Parallel(n_jobs=-1)]: Done 137 tasks      | elapsed:  6.9min\n",
      "[Parallel(n_jobs=-1)]: Done 138 tasks      | elapsed:  6.9min\n",
      "[Parallel(n_jobs=-1)]: Done 139 tasks      | elapsed:  7.0min\n",
      "[Parallel(n_jobs=-1)]: Done 140 tasks      | elapsed:  7.0min\n",
      "[Parallel(n_jobs=-1)]: Done 141 tasks      | elapsed:  7.1min\n",
      "[Parallel(n_jobs=-1)]: Done 142 tasks      | elapsed:  7.1min\n",
      "[Parallel(n_jobs=-1)]: Done 143 tasks      | elapsed:  7.1min\n",
      "[Parallel(n_jobs=-1)]: Done 144 tasks      | elapsed:  7.1min\n",
      "[Parallel(n_jobs=-1)]: Done 145 tasks      | elapsed:  7.1min\n",
      "[Parallel(n_jobs=-1)]: Done 146 tasks      | elapsed:  7.2min\n",
      "[Parallel(n_jobs=-1)]: Done 147 tasks      | elapsed:  7.2min\n",
      "[Parallel(n_jobs=-1)]: Done 148 tasks      | elapsed:  7.2min\n",
      "[Parallel(n_jobs=-1)]: Done 149 tasks      | elapsed:  7.2min\n",
      "[Parallel(n_jobs=-1)]: Done 150 tasks      | elapsed:  7.2min\n",
      "[Parallel(n_jobs=-1)]: Done 151 tasks      | elapsed:  7.3min\n",
      "[Parallel(n_jobs=-1)]: Done 152 tasks      | elapsed:  7.3min\n",
      "[Parallel(n_jobs=-1)]: Done 153 tasks      | elapsed:  7.4min\n",
      "[Parallel(n_jobs=-1)]: Done 154 tasks      | elapsed:  7.4min\n",
      "[Parallel(n_jobs=-1)]: Done 155 tasks      | elapsed:  7.4min\n",
      "[Parallel(n_jobs=-1)]: Done 156 tasks      | elapsed:  7.4min\n",
      "[Parallel(n_jobs=-1)]: Done 157 tasks      | elapsed:  7.5min\n",
      "[Parallel(n_jobs=-1)]: Done 158 tasks      | elapsed:  7.5min\n",
      "[Parallel(n_jobs=-1)]: Done 159 tasks      | elapsed:  7.6min\n",
      "[Parallel(n_jobs=-1)]: Done 160 tasks      | elapsed:  7.6min\n",
      "[Parallel(n_jobs=-1)]: Done 161 tasks      | elapsed:  7.6min\n",
      "[Parallel(n_jobs=-1)]: Done 162 tasks      | elapsed:  7.6min\n",
      "[Parallel(n_jobs=-1)]: Done 163 tasks      | elapsed:  7.7min\n",
      "[Parallel(n_jobs=-1)]: Done 164 tasks      | elapsed:  7.7min\n",
      "[Parallel(n_jobs=-1)]: Done 165 tasks      | elapsed:  7.8min\n",
      "[Parallel(n_jobs=-1)]: Done 166 tasks      | elapsed:  7.8min\n",
      "[Parallel(n_jobs=-1)]: Done 167 tasks      | elapsed:  7.9min\n",
      "[Parallel(n_jobs=-1)]: Done 168 tasks      | elapsed:  7.9min\n",
      "[Parallel(n_jobs=-1)]: Done 169 tasks      | elapsed:  7.9min\n",
      "[Parallel(n_jobs=-1)]: Done 170 tasks      | elapsed:  7.9min\n",
      "[Parallel(n_jobs=-1)]: Done 171 tasks      | elapsed:  8.0min\n",
      "[Parallel(n_jobs=-1)]: Done 172 tasks      | elapsed:  8.0min\n",
      "[Parallel(n_jobs=-1)]: Done 173 tasks      | elapsed:  8.0min\n",
      "[Parallel(n_jobs=-1)]: Done 174 tasks      | elapsed:  8.1min\n",
      "[Parallel(n_jobs=-1)]: Done 175 tasks      | elapsed:  8.2min\n",
      "[Parallel(n_jobs=-1)]: Done 176 tasks      | elapsed:  8.2min\n",
      "[Parallel(n_jobs=-1)]: Done 177 tasks      | elapsed:  8.2min\n",
      "[Parallel(n_jobs=-1)]: Done 178 tasks      | elapsed:  8.2min\n",
      "[Parallel(n_jobs=-1)]: Done 179 tasks      | elapsed:  8.3min\n",
      "[Parallel(n_jobs=-1)]: Done 180 tasks      | elapsed:  8.3min\n",
      "[Parallel(n_jobs=-1)]: Done 181 tasks      | elapsed:  8.4min\n",
      "[Parallel(n_jobs=-1)]: Done 182 tasks      | elapsed:  8.4min\n",
      "[Parallel(n_jobs=-1)]: Done 183 tasks      | elapsed:  8.5min\n",
      "[Parallel(n_jobs=-1)]: Done 184 tasks      | elapsed:  8.5min\n",
      "[Parallel(n_jobs=-1)]: Done 185 tasks      | elapsed:  8.5min\n",
      "[Parallel(n_jobs=-1)]: Done 186 tasks      | elapsed:  8.5min\n",
      "[Parallel(n_jobs=-1)]: Done 187 tasks      | elapsed:  8.6min\n",
      "[Parallel(n_jobs=-1)]: Done 188 tasks      | elapsed:  8.7min\n",
      "[Parallel(n_jobs=-1)]: Done 189 tasks      | elapsed:  8.7min\n",
      "[Parallel(n_jobs=-1)]: Done 190 tasks      | elapsed:  8.7min\n",
      "[Parallel(n_jobs=-1)]: Done 191 tasks      | elapsed:  8.8min\n",
      "[Parallel(n_jobs=-1)]: Done 192 tasks      | elapsed:  8.8min\n",
      "[Parallel(n_jobs=-1)]: Done 193 tasks      | elapsed:  8.8min\n",
      "[Parallel(n_jobs=-1)]: Done 200 out of 200 | elapsed:  9.0min finished\n"
     ]
    },
    {
     "data": {
      "text/plain": [
       "RandomizedSearchCV(cv=10, error_score=nan,\n",
       "                   estimator=DecisionTreeClassifier(ccp_alpha=0.0,\n",
       "                                                    class_weight=None,\n",
       "                                                    criterion='gini',\n",
       "                                                    max_depth=None,\n",
       "                                                    max_features=None,\n",
       "                                                    max_leaf_nodes=None,\n",
       "                                                    min_impurity_decrease=0.0,\n",
       "                                                    min_impurity_split=None,\n",
       "                                                    min_samples_leaf=1,\n",
       "                                                    min_samples_split=2,\n",
       "                                                    min_weight_fraction_leaf=0.0,\n",
       "                                                    presort='deprecated',\n",
       "                                                    random_state=None,\n",
       "                                                    splitter='best'),\n",
       "                   iid='deprecated', n_iter=20, n_jobs=-1,\n",
       "                   param_distributions={'class_weight': [None, 'balanced'],\n",
       "                                        'criterion': ['entropy', 'gini'],\n",
       "                                        'max_depth': [None, 5, 10, 15, 20, 30,\n",
       "                                                      50, 70],\n",
       "                                        'min_samples_leaf': [1, 2, 5, 10, 15,\n",
       "                                                             20],\n",
       "                                        'min_samples_split': [2, 5, 10, 15,\n",
       "                                                              20]},\n",
       "                   pre_dispatch='2*n_jobs', random_state=None, refit=True,\n",
       "                   return_train_score=False, scoring='roc_auc', verbose=20)"
      ]
     },
     "execution_count": 123,
     "metadata": {},
     "output_type": "execute_result"
    }
   ],
   "source": [
    "random_search.fit(X,y)"
   ]
  },
  {
   "cell_type": "code",
   "execution_count": 124,
   "metadata": {},
   "outputs": [
    {
     "name": "stdout",
     "output_type": "stream",
     "text": [
      "Model with rank: 1\n",
      "Mean Validation Score: 0.62704199 (std:0.003)\n",
      "Parameters:{'min_samples_split': 15, 'min_samples_leaf': 10, 'max_depth': 10, 'criterion': 'gini', 'class_weight': None}\n",
      "\n",
      "Model with rank: 2\n",
      "Mean Validation Score: 0.62652734 (std:0.004)\n",
      "Parameters:{'min_samples_split': 10, 'min_samples_leaf': 1, 'max_depth': 15, 'criterion': 'entropy', 'class_weight': None}\n",
      "\n",
      "Model with rank: 3\n",
      "Mean Validation Score: 0.62634399 (std:0.003)\n",
      "Parameters:{'min_samples_split': 10, 'min_samples_leaf': 2, 'max_depth': 10, 'criterion': 'gini', 'class_weight': 'balanced'}\n",
      "\n",
      "Model with rank: 4\n",
      "Mean Validation Score: 0.62629877 (std:0.003)\n",
      "Parameters:{'min_samples_split': 15, 'min_samples_leaf': 1, 'max_depth': 10, 'criterion': 'gini', 'class_weight': 'balanced'}\n",
      "\n",
      "Model with rank: 5\n",
      "Mean Validation Score: 0.62468713 (std:0.003)\n",
      "Parameters:{'min_samples_split': 5, 'min_samples_leaf': 10, 'max_depth': 15, 'criterion': 'entropy', 'class_weight': 'balanced'}\n",
      "\n"
     ]
    }
   ],
   "source": [
    "report(random_search.cv_results_,5)"
   ]
  },
  {
   "cell_type": "code",
   "execution_count": 125,
   "metadata": {},
   "outputs": [],
   "source": [
    "dtree_act=random_search.best_estimator_"
   ]
  },
  {
   "cell_type": "code",
   "execution_count": 126,
   "metadata": {},
   "outputs": [
    {
     "data": {
      "text/plain": [
       "DecisionTreeClassifier(ccp_alpha=0.0, class_weight=None, criterion='gini',\n",
       "                       max_depth=10, max_features=None, max_leaf_nodes=None,\n",
       "                       min_impurity_decrease=0.0, min_impurity_split=None,\n",
       "                       min_samples_leaf=10, min_samples_split=15,\n",
       "                       min_weight_fraction_leaf=0.0, presort='deprecated',\n",
       "                       random_state=None, splitter='best')"
      ]
     },
     "execution_count": 126,
     "metadata": {},
     "output_type": "execute_result"
    }
   ],
   "source": [
    "dtree_act.fit(X,y)"
   ]
  },
  {
   "cell_type": "code",
   "execution_count": 127,
   "metadata": {},
   "outputs": [
    {
     "data": {
      "text/plain": [
       "(478421,)"
      ]
     },
     "execution_count": 127,
     "metadata": {},
     "output_type": "execute_result"
    }
   ],
   "source": [
    "train_score_tot = dtree_act.predict_proba(X)[:,1]\n",
    "train_score_tot.shape"
   ]
  },
  {
   "cell_type": "code",
   "execution_count": 128,
   "metadata": {},
   "outputs": [
    {
     "data": {
      "text/plain": [
       "(119606,)"
      ]
     },
     "execution_count": 128,
     "metadata": {},
     "output_type": "execute_result"
    }
   ],
   "source": [
    "test_score_tot = dtree_act.predict_proba(test_clean)[:,1]\n",
    "test_score_tot.shape"
   ]
  },
  {
   "cell_type": "code",
   "execution_count": 129,
   "metadata": {},
   "outputs": [],
   "source": [
    "KS_all_act =[]\n",
    "for cutoff in cutoffs:\n",
    "    \n",
    "    predicted = (train_score_tot > cutoff).astype(int)\n",
    "    \n",
    "    TP = ((y==1)&(predicted==1)).sum()\n",
    "    FP= ((y==0) &(predicted==1)).sum()\n",
    "    TN = ((y==0)&(predicted==0)).sum()\n",
    "    FN = ((y==1)&(predicted==0)).sum()\n",
    "    \n",
    "    P = TP+FN\n",
    "    N = TN+FP\n",
    "    \n",
    "    KS = (TP/P)-(FP/N)\n",
    "    \n",
    "    KS_all_act.append(KS)"
   ]
  },
  {
   "cell_type": "code",
   "execution_count": 130,
   "metadata": {
    "scrolled": true
   },
   "outputs": [
    {
     "data": {
      "text/plain": [
       "[(0.01, 0.002362308210694386),\n",
       " (0.02, 0.003822292385601056),\n",
       " (0.03, 0.005818407884742305),\n",
       " (0.04, 0.009895386514716997),\n",
       " (0.05, 0.012716630419372543),\n",
       " (0.060000000000000005, 0.014657567537904703),\n",
       " (0.06999999999999999, 0.02636048019416859),\n",
       " (0.08, 0.02785533880066693),\n",
       " (0.09, 0.046722424414906705),\n",
       " (0.09999999999999999, 0.07044784562497652),\n",
       " (0.11, 0.10320723045070967),\n",
       " (0.12, 0.10911938831414669),\n",
       " (0.13, 0.12982269028486138),\n",
       " (0.14, 0.15480501875662123),\n",
       " (0.15000000000000002, 0.1588234676692052),\n",
       " (0.16, 0.16072656221981552),\n",
       " (0.17, 0.16765690918080445),\n",
       " (0.18000000000000002, 0.17802585498610302),\n",
       " (0.19, 0.18730324885264138),\n",
       " (0.2, 0.18768728838055493),\n",
       " (0.21000000000000002, 0.18787857551849307),\n",
       " (0.22, 0.18678982029185232),\n",
       " (0.23, 0.17899314545033934),\n",
       " (0.24000000000000002, 0.17543311424554708),\n",
       " (0.25, 0.16800665868854292),\n",
       " (0.26, 0.15990364229685977),\n",
       " (0.27, 0.15834963028174226),\n",
       " (0.28, 0.07875051086408859),\n",
       " (0.29000000000000004, 0.07861305710011088),\n",
       " (0.3, 0.07564178793041643),\n",
       " (0.31, 0.07161263874736626),\n",
       " (0.32, 0.07116668048072085),\n",
       " (0.33, 0.0572945131140906),\n",
       " (0.34, 0.05430584803516638),\n",
       " (0.35000000000000003, 0.05333254281710172),\n",
       " (0.36000000000000004, 0.051378463044989366),\n",
       " (0.37, 0.045987430440962),\n",
       " (0.38, 0.0450446337635877),\n",
       " (0.39, 0.0437953689881017),\n",
       " (0.4, 0.04318004320899042),\n",
       " (0.41000000000000003, 0.04134662246626462),\n",
       " (0.42000000000000004, 0.04113874355686249),\n",
       " (0.43, 0.03997418883311576),\n",
       " (0.44, 0.03957779567372151),\n",
       " (0.45, 0.038368545179464905),\n",
       " (0.46, 0.03818723725808935),\n",
       " (0.47000000000000003, 0.03774079806219373),\n",
       " (0.48000000000000004, 0.037568597617542554),\n",
       " (0.49, 0.037568597617542554),\n",
       " (0.5, 0.037251519158413335),\n",
       " (0.51, 0.037251519158413335),\n",
       " (0.52, 0.03714797796752692),\n",
       " (0.53, 0.037080468419723386),\n",
       " (0.54, 0.036701583857114035),\n",
       " (0.55, 0.03656391217125257),\n",
       " (0.56, 0.03637769733318289),\n",
       " (0.5700000000000001, 0.036307535195124974),\n",
       " (0.5800000000000001, 0.03593700666709343),\n",
       " (0.59, 0.03536965293997468),\n",
       " (0.6, 0.03500557929841313),\n",
       " (0.61, 0.03500557929841313),\n",
       " (0.62, 0.03429829955899319),\n",
       " (0.63, 0.033743855604814424),\n",
       " (0.64, 0.03356864939157694),\n",
       " (0.65, 0.03356864939157694),\n",
       " (0.66, 0.03344198633054766),\n",
       " (0.67, 0.03328839910315989),\n",
       " (0.68, 0.03328839910315989),\n",
       " (0.6900000000000001, 0.03317614869936376),\n",
       " (0.7000000000000001, 0.03299298471536312),\n",
       " (0.7100000000000001, 0.03299298471536312),\n",
       " (0.72, 0.03290500588767109),\n",
       " (0.73, 0.032648275733211565),\n",
       " (0.74, 0.032648275733211565),\n",
       " (0.75, 0.03248673073506064),\n",
       " (0.76, 0.03248673073506064),\n",
       " (0.77, 0.03230546789916781),\n",
       " (0.78, 0.03217805339599195),\n",
       " (0.79, 0.031940289637127764),\n",
       " (0.8, 0.03146210952914501),\n",
       " (0.81, 0.03146210952914501),\n",
       " (0.8200000000000001, 0.03146210952914501),\n",
       " (0.8300000000000001, 0.03146210952914501),\n",
       " (0.8400000000000001, 0.0313688255209442),\n",
       " (0.85, 0.0313688255209442),\n",
       " (0.86, 0.031255823675001494),\n",
       " (0.87, 0.031255823675001494),\n",
       " (0.88, 0.031255823675001494),\n",
       " (0.89, 0.031255823675001494),\n",
       " (0.9, 0.030997590636248813),\n",
       " (0.91, 0.03080571743933845),\n",
       " (0.92, 0.03080571743933845),\n",
       " (0.93, 0.0305645496480733),\n",
       " (0.9400000000000001, 0.03042917737413429),\n",
       " (0.9500000000000001, 0.030254369424711457),\n",
       " (0.9600000000000001, 0.03004998471867575),\n",
       " (0.97, 0.03004998471867575),\n",
       " (0.98, 0.03004998471867575),\n",
       " (0.99, 0.03004998471867575)]"
      ]
     },
     "execution_count": 130,
     "metadata": {},
     "output_type": "execute_result"
    }
   ],
   "source": [
    "list(zip(cutoffs,KS_all_act))"
   ]
  },
  {
   "cell_type": "code",
   "execution_count": 131,
   "metadata": {},
   "outputs": [
    {
     "data": {
      "text/plain": [
       "0.21000000000000002"
      ]
     },
     "execution_count": 131,
     "metadata": {},
     "output_type": "execute_result"
    }
   ],
   "source": [
    "mycutoff_act = cutoffs[KS_all_act==max(KS_all_act)][0]\n",
    "mycutoff_act"
   ]
  },
  {
   "cell_type": "code",
   "execution_count": 132,
   "metadata": {},
   "outputs": [
    {
     "data": {
      "text/plain": [
       "(119606,)"
      ]
     },
     "execution_count": 132,
     "metadata": {},
     "output_type": "execute_result"
    }
   ],
   "source": [
    "test_classes_act = (test_score_tot>mycutoff_act).astype(int)\n",
    "test_classes_act.shape"
   ]
  },
  {
   "cell_type": "code",
   "execution_count": 133,
   "metadata": {},
   "outputs": [],
   "source": [
    "prediction=np.where(test_classes_act==1,\"Yes\",\"No\")\n",
    "submission=pd.DataFrame(list(zip(test_clean['Complaint ID'],list(prediction))),\n",
    "                       columns=['Complaint ID','Consumer disputed?'])"
   ]
  },
  {
   "cell_type": "code",
   "execution_count": 134,
   "metadata": {},
   "outputs": [
    {
     "data": {
      "text/html": [
       "<div>\n",
       "<style scoped>\n",
       "    .dataframe tbody tr th:only-of-type {\n",
       "        vertical-align: middle;\n",
       "    }\n",
       "\n",
       "    .dataframe tbody tr th {\n",
       "        vertical-align: top;\n",
       "    }\n",
       "\n",
       "    .dataframe thead th {\n",
       "        text-align: right;\n",
       "    }\n",
       "</style>\n",
       "<table border=\"1\" class=\"dataframe\">\n",
       "  <thead>\n",
       "    <tr style=\"text-align: right;\">\n",
       "      <th></th>\n",
       "      <th>Complaint ID</th>\n",
       "      <th>Consumer disputed?</th>\n",
       "    </tr>\n",
       "  </thead>\n",
       "  <tbody>\n",
       "    <tr>\n",
       "      <th>0</th>\n",
       "      <td>675956</td>\n",
       "      <td>Yes</td>\n",
       "    </tr>\n",
       "    <tr>\n",
       "      <th>1</th>\n",
       "      <td>1858795</td>\n",
       "      <td>Yes</td>\n",
       "    </tr>\n",
       "    <tr>\n",
       "      <th>2</th>\n",
       "      <td>32637</td>\n",
       "      <td>Yes</td>\n",
       "    </tr>\n",
       "    <tr>\n",
       "      <th>3</th>\n",
       "      <td>1731374</td>\n",
       "      <td>No</td>\n",
       "    </tr>\n",
       "    <tr>\n",
       "      <th>4</th>\n",
       "      <td>501487</td>\n",
       "      <td>Yes</td>\n",
       "    </tr>\n",
       "  </tbody>\n",
       "</table>\n",
       "</div>"
      ],
      "text/plain": [
       "   Complaint ID Consumer disputed?\n",
       "0        675956                Yes\n",
       "1       1858795                Yes\n",
       "2         32637                Yes\n",
       "3       1731374                 No\n",
       "4        501487                Yes"
      ]
     },
     "execution_count": 134,
     "metadata": {},
     "output_type": "execute_result"
    }
   ],
   "source": [
    "submission.head()"
   ]
  },
  {
   "cell_type": "code",
   "execution_count": 135,
   "metadata": {},
   "outputs": [],
   "source": [
    "submission.to_csv('sample_submission.csv',index=False)"
   ]
  },
  {
   "cell_type": "markdown",
   "metadata": {},
   "source": [
    "### Random Forest with RandomSearchCV"
   ]
  },
  {
   "cell_type": "code",
   "execution_count": null,
   "metadata": {},
   "outputs": [],
   "source": [
    "from sklearn.ensemble import RandomForestClassifier"
   ]
  },
  {
   "cell_type": "code",
   "execution_count": null,
   "metadata": {},
   "outputs": [],
   "source": [
    "clf = RandomForestClassifier()"
   ]
  },
  {
   "cell_type": "code",
   "execution_count": null,
   "metadata": {},
   "outputs": [],
   "source": [
    "# help(clf)"
   ]
  },
  {
   "cell_type": "code",
   "execution_count": null,
   "metadata": {},
   "outputs": [],
   "source": [
    "params = {\n",
    "    'n_estimators':[100,200,300,500,700,1000],\n",
    "    'max_features':[5,10,20,25,30,35],\n",
    "    'bootstrap':[True,False],\n",
    "    'criterion' : [\"gini\", \"entropy\"],\n",
    "    'max_depth':[None,5,10,15,20,30,50,70],\n",
    "    'min_samples_split':[2,5,10,15,20],\n",
    "    'min_samples_leaf':[1,2,5,10,15,20],\n",
    "    'class_weight':[None,'balanced']\n",
    "}"
   ]
  },
  {
   "cell_type": "code",
   "execution_count": null,
   "metadata": {},
   "outputs": [],
   "source": [
    "from sklearn.model_selection import RandomizedSearchCV"
   ]
  },
  {
   "cell_type": "code",
   "execution_count": null,
   "metadata": {},
   "outputs": [],
   "source": [
    "random_search = RandomizedSearchCV(clf,param_distributions=params,n_iter=5,scoring='roc_auc',cv=5,n_jobs=-1,verbose=20)"
   ]
  },
  {
   "cell_type": "code",
   "execution_count": null,
   "metadata": {},
   "outputs": [],
   "source": [
    "random_search.fit(X_train,y_train)"
   ]
  },
  {
   "cell_type": "code",
   "execution_count": null,
   "metadata": {},
   "outputs": [],
   "source": [
    "report(random_search.cv_results_,5)"
   ]
  },
  {
   "cell_type": "code",
   "execution_count": null,
   "metadata": {},
   "outputs": [],
   "source": [
    "# random_search.best_estimator_"
   ]
  },
  {
   "cell_type": "code",
   "execution_count": null,
   "metadata": {},
   "outputs": [],
   "source": [
    "rf = RandomForestClassifier(n_estimators= 100,min_samples_split= 2, min_samples_leaf=20, max_features= 10,\n",
    "                            max_depth= 15, criterion= 'entropy', class_weight= None, bootstrap= True)"
   ]
  },
  {
   "cell_type": "code",
   "execution_count": null,
   "metadata": {},
   "outputs": [],
   "source": [
    "rf.fit(X_train,y_train)"
   ]
  },
  {
   "cell_type": "code",
   "execution_count": null,
   "metadata": {},
   "outputs": [],
   "source": [
    "rf.predict_proba(X_train)"
   ]
  },
  {
   "cell_type": "code",
   "execution_count": null,
   "metadata": {},
   "outputs": [],
   "source": [
    "rf.classes_"
   ]
  },
  {
   "cell_type": "code",
   "execution_count": null,
   "metadata": {},
   "outputs": [],
   "source": [
    "train_score=rf.predict_proba(X_train)[:,1]\n",
    "train_score"
   ]
  },
  {
   "cell_type": "code",
   "execution_count": null,
   "metadata": {},
   "outputs": [],
   "source": [
    "real = y_train"
   ]
  },
  {
   "cell_type": "code",
   "execution_count": null,
   "metadata": {},
   "outputs": [],
   "source": [
    "cutoffs = np.linspace(0.01,0.99,99)\n",
    "cutoffs"
   ]
  },
  {
   "cell_type": "code",
   "execution_count": null,
   "metadata": {},
   "outputs": [],
   "source": [
    "KS_all =[]\n",
    "for cutoff in cutoffs:\n",
    "    \n",
    "    predicted = (train_score > cutoff).astype(int)\n",
    "    \n",
    "    TP = ((real==1)&(predicted==1)).sum()\n",
    "    FP= ((real==0) &(predicted==1)).sum()\n",
    "    TN = ((real==0)&(predicted==0)).sum()\n",
    "    FN = ((real==1)&(predicted==0)).sum()\n",
    "    \n",
    "    P = TP+FN\n",
    "    N = TN+FP\n",
    "    \n",
    "    KS = (TP/P)-(FP/N)\n",
    "    \n",
    "    KS_all.append(KS)"
   ]
  },
  {
   "cell_type": "code",
   "execution_count": null,
   "metadata": {},
   "outputs": [],
   "source": [
    "list(zip(cutoffs,KS_all))"
   ]
  },
  {
   "cell_type": "code",
   "execution_count": null,
   "metadata": {},
   "outputs": [],
   "source": [
    "mycutoff = cutoffs[KS_all==max(KS_all)][0]\n",
    "mycutoff"
   ]
  },
  {
   "cell_type": "code",
   "execution_count": null,
   "metadata": {},
   "outputs": [],
   "source": [
    "test_score=rf.predict_proba(X_val)[:,1]\n",
    "test_score"
   ]
  },
  {
   "cell_type": "code",
   "execution_count": null,
   "metadata": {},
   "outputs": [],
   "source": [
    "test_classes = (test_score>mycutoff).astype(int)\n",
    "test_classes"
   ]
  },
  {
   "cell_type": "code",
   "execution_count": null,
   "metadata": {},
   "outputs": [],
   "source": [
    "real_y = y_val"
   ]
  },
  {
   "cell_type": "code",
   "execution_count": null,
   "metadata": {},
   "outputs": [],
   "source": [
    "TP = ((real_y==1)&(test_classes==1)).sum()\n",
    "FP= ((real_y==0) &(test_classes==1)).sum()\n",
    "TN = ((real_y==0)&(test_classes==0)).sum()\n",
    "FN = ((real_y==1)&(test_classes==0)).sum()\n",
    "    \n",
    "P = TP+FN\n",
    "N = TN+FP"
   ]
  },
  {
   "cell_type": "code",
   "execution_count": null,
   "metadata": {},
   "outputs": [],
   "source": [
    "test_classes.shape,real_y.shape"
   ]
  },
  {
   "cell_type": "code",
   "execution_count": null,
   "metadata": {},
   "outputs": [],
   "source": [
    "KS = (TP/P)-(FP/N)\n",
    "KS"
   ]
  },
  {
   "cell_type": "code",
   "execution_count": null,
   "metadata": {},
   "outputs": [],
   "source": [
    "from sklearn.metrics import roc_auc_score"
   ]
  },
  {
   "cell_type": "code",
   "execution_count": null,
   "metadata": {},
   "outputs": [],
   "source": [
    "score = roc_auc_score(real_y,test_classes)\n",
    "score"
   ]
  },
  {
   "cell_type": "markdown",
   "metadata": {},
   "source": [
    "### Fitting the random searcb to the entire training model this time."
   ]
  },
  {
   "cell_type": "code",
   "execution_count": null,
   "metadata": {},
   "outputs": [],
   "source": [
    "random_search.fit(X,y)"
   ]
  },
  {
   "cell_type": "code",
   "execution_count": null,
   "metadata": {},
   "outputs": [],
   "source": [
    "report(random_search.cv_results_,3)"
   ]
  },
  {
   "cell_type": "code",
   "execution_count": null,
   "metadata": {},
   "outputs": [],
   "source": [
    "# rf_act=random_search.best_estimator_\n",
    "rf_act = RandomForestClassifier(n_estimators= 100,min_samples_split= 2, min_samples_leaf=20, max_features= 10,\n",
    "                            max_depth= 15, criterion= 'entropy', class_weight= None, bootstrap= True)"
   ]
  },
  {
   "cell_type": "code",
   "execution_count": null,
   "metadata": {},
   "outputs": [],
   "source": [
    "rf_act.fit(X,y)"
   ]
  },
  {
   "cell_type": "code",
   "execution_count": null,
   "metadata": {},
   "outputs": [],
   "source": [
    "train_score_tot = rf_act.predict_proba(X)[:,1]\n",
    "train_score_tot.shape"
   ]
  },
  {
   "cell_type": "code",
   "execution_count": null,
   "metadata": {},
   "outputs": [],
   "source": [
    "test_score_tot = rf_act.predict_proba(test_clean)[:,1]\n",
    "test_score_tot.shape"
   ]
  },
  {
   "cell_type": "code",
   "execution_count": null,
   "metadata": {},
   "outputs": [],
   "source": [
    "KS_all_act =[]\n",
    "for cutoff in cutoffs:\n",
    "    \n",
    "    predicted = (train_score_tot > cutoff).astype(int)\n",
    "    \n",
    "    TP = ((y==1)&(predicted==1)).sum()\n",
    "    FP= ((y==0) &(predicted==1)).sum()\n",
    "    TN = ((y==0)&(predicted==0)).sum()\n",
    "    FN = ((y==1)&(predicted==0)).sum()\n",
    "    \n",
    "    P = TP+FN\n",
    "    N = TN+FP\n",
    "    \n",
    "    KS = (TP/P)-(FP/N)\n",
    "    \n",
    "    KS_all_act.append(KS)"
   ]
  },
  {
   "cell_type": "code",
   "execution_count": null,
   "metadata": {},
   "outputs": [],
   "source": [
    "list(zip(cutoffs,KS_all_act))"
   ]
  },
  {
   "cell_type": "code",
   "execution_count": null,
   "metadata": {},
   "outputs": [],
   "source": [
    "mycutoff_act = cutoffs[KS_all_act==max(KS_all_act)][0]\n",
    "mycutoff_act"
   ]
  },
  {
   "cell_type": "code",
   "execution_count": null,
   "metadata": {},
   "outputs": [],
   "source": [
    "test_classes_act = (test_score_tot>mycutoff_act).astype(int)\n",
    "test_classes_act.shape"
   ]
  },
  {
   "cell_type": "code",
   "execution_count": null,
   "metadata": {},
   "outputs": [],
   "source": [
    "prediction=np.where(test_classes_act==1,\"Yes\",\"No\")\n",
    "submission=pd.DataFrame(list(zip(test_clean['Complaint ID'],list(prediction))),\n",
    "                       columns=['Complaint ID','Consumer disputed?'])"
   ]
  },
  {
   "cell_type": "code",
   "execution_count": null,
   "metadata": {},
   "outputs": [],
   "source": [
    "submission.head()"
   ]
  },
  {
   "cell_type": "code",
   "execution_count": null,
   "metadata": {},
   "outputs": [],
   "source": [
    "submission.to_csv('sample_submission.csv',index=False)"
   ]
  },
  {
   "cell_type": "code",
   "execution_count": null,
   "metadata": {},
   "outputs": [],
   "source": []
  },
  {
   "cell_type": "markdown",
   "metadata": {},
   "source": [
    "### Boosting Machines"
   ]
  },
  {
   "cell_type": "code",
   "execution_count": 46,
   "metadata": {},
   "outputs": [],
   "source": [
    "base_clf=DecisionTreeClassifier(max_leaf_nodes=4,class_weight='balanced')"
   ]
  },
  {
   "cell_type": "code",
   "execution_count": 48,
   "metadata": {},
   "outputs": [],
   "source": [
    "from sklearn.ensemble import AdaBoostClassifier"
   ]
  },
  {
   "cell_type": "code",
   "execution_count": 55,
   "metadata": {},
   "outputs": [],
   "source": [
    "adb_params={'n_estimators':[50,100,500],\n",
    "           'learning_rate': [0.01,.1,1]\n",
    "           }\n",
    "adb=AdaBoostClassifier(base_estimator=base_clf)"
   ]
  },
  {
   "cell_type": "code",
   "execution_count": 56,
   "metadata": {},
   "outputs": [],
   "source": [
    "from sklearn.model_selection import GridSearchCV"
   ]
  },
  {
   "cell_type": "code",
   "execution_count": 57,
   "metadata": {},
   "outputs": [],
   "source": [
    "complete_search=GridSearchCV(adb,scoring='roc_auc',param_grid=adb_params,cv=5,n_jobs=-1,verbose=20)"
   ]
  },
  {
   "cell_type": "code",
   "execution_count": 58,
   "metadata": {},
   "outputs": [
    {
     "name": "stdout",
     "output_type": "stream",
     "text": [
      "Fitting 5 folds for each of 9 candidates, totalling 45 fits\n"
     ]
    },
    {
     "name": "stderr",
     "output_type": "stream",
     "text": [
      "[Parallel(n_jobs=-1)]: Using backend LokyBackend with 12 concurrent workers.\n",
      "[Parallel(n_jobs=-1)]: Done   1 tasks      | elapsed:  4.2min\n",
      "[Parallel(n_jobs=-1)]: Done   2 tasks      | elapsed:  4.2min\n",
      "[Parallel(n_jobs=-1)]: Done   3 tasks      | elapsed:  4.2min\n",
      "[Parallel(n_jobs=-1)]: Done   4 tasks      | elapsed:  4.2min\n",
      "[Parallel(n_jobs=-1)]: Done   5 tasks      | elapsed:  4.2min\n",
      "[Parallel(n_jobs=-1)]: Done   6 tasks      | elapsed:  8.5min\n",
      "[Parallel(n_jobs=-1)]: Done   7 tasks      | elapsed:  8.5min\n",
      "[Parallel(n_jobs=-1)]: Done   8 tasks      | elapsed:  8.5min\n",
      "[Parallel(n_jobs=-1)]: Done   9 tasks      | elapsed:  8.5min\n",
      "[Parallel(n_jobs=-1)]: Done  10 tasks      | elapsed:  8.6min\n",
      "[Parallel(n_jobs=-1)]: Done  11 tasks      | elapsed:  8.7min\n",
      "[Parallel(n_jobs=-1)]: Done  12 tasks      | elapsed:  8.7min\n",
      "[Parallel(n_jobs=-1)]: Done  13 tasks      | elapsed: 12.8min\n",
      "[Parallel(n_jobs=-1)]: Done  14 tasks      | elapsed: 12.9min\n",
      "[Parallel(n_jobs=-1)]: Done  15 tasks      | elapsed: 13.3min\n",
      "[Parallel(n_jobs=-1)]: Done  16 tasks      | elapsed: 17.0min\n",
      "[Parallel(n_jobs=-1)]: Done  17 tasks      | elapsed: 17.2min\n",
      "[Parallel(n_jobs=-1)]: Done  18 tasks      | elapsed: 17.2min\n",
      "[Parallel(n_jobs=-1)]: Done  19 tasks      | elapsed: 17.4min\n",
      "[Parallel(n_jobs=-1)]: Done  20 tasks      | elapsed: 20.9min\n",
      "[Parallel(n_jobs=-1)]: Done  21 tasks      | elapsed: 21.0min\n",
      "[Parallel(n_jobs=-1)]: Done  22 tasks      | elapsed: 24.4min\n",
      "[Parallel(n_jobs=-1)]: Done  25 out of  45 | elapsed: 28.0min remaining: 22.4min\n",
      "[Parallel(n_jobs=-1)]: Done  28 out of  45 | elapsed: 40.7min remaining: 24.7min\n",
      "[Parallel(n_jobs=-1)]: Done  31 out of  45 | elapsed: 41.6min remaining: 18.8min\n",
      "[Parallel(n_jobs=-1)]: Done  34 out of  45 | elapsed: 45.4min remaining: 14.7min\n",
      "[Parallel(n_jobs=-1)]: Done  37 out of  45 | elapsed: 46.6min remaining: 10.1min\n",
      "[Parallel(n_jobs=-1)]: Done  40 out of  45 | elapsed: 48.2min remaining:  6.0min\n",
      "[Parallel(n_jobs=-1)]: Done  43 out of  45 | elapsed: 56.6min remaining:  2.6min\n",
      "[Parallel(n_jobs=-1)]: Done  45 out of  45 | elapsed: 57.4min finished\n"
     ]
    },
    {
     "data": {
      "text/plain": [
       "GridSearchCV(cv=5,\n",
       "             estimator=AdaBoostClassifier(base_estimator=DecisionTreeClassifier(class_weight='balanced',\n",
       "                                                                                max_leaf_nodes=4)),\n",
       "             n_jobs=-1,\n",
       "             param_grid={'learning_rate': [0.01, 0.1, 1],\n",
       "                         'n_estimators': [50, 100, 500]},\n",
       "             scoring='roc_auc', verbose=20)"
      ]
     },
     "execution_count": 58,
     "metadata": {},
     "output_type": "execute_result"
    }
   ],
   "source": [
    "complete_search.fit(X_train,y_train)"
   ]
  },
  {
   "cell_type": "code",
   "execution_count": 59,
   "metadata": {},
   "outputs": [],
   "source": [
    "def report(results,n_top=5):\n",
    "    for i in range(1,n_top+1):\n",
    "        cands = np.flatnonzero(results['rank_test_score']==i)\n",
    "        for c in cands:\n",
    "            print(f\"Model with rank {i}\")\n",
    "            print(f\"Mean validation score:{results['mean_test_score'][c]} (std:{results['std_test_score'][c]})\")\n",
    "            print(f\"Parameters:{results['params'][c]}\")\n",
    "            print(' ')\n",
    "                  "
   ]
  },
  {
   "cell_type": "code",
   "execution_count": 60,
   "metadata": {},
   "outputs": [
    {
     "name": "stdout",
     "output_type": "stream",
     "text": [
      "Model with rank 1\n",
      "Mean validation score:0.6340269748338565 (std:0.0016288176149154828)\n",
      "Parameters:{'learning_rate': 0.1, 'n_estimators': 500}\n",
      " \n",
      "Model with rank 2\n",
      "Mean validation score:0.632063939649619 (std:0.0024182713793281787)\n",
      "Parameters:{'learning_rate': 1, 'n_estimators': 100}\n",
      " \n",
      "Model with rank 3\n",
      "Mean validation score:0.6316523459429616 (std:0.0021752132536289586)\n",
      "Parameters:{'learning_rate': 1, 'n_estimators': 50}\n",
      " \n",
      "Model with rank 4\n",
      "Mean validation score:0.6271416987153927 (std:0.0023337696765587646)\n",
      "Parameters:{'learning_rate': 1, 'n_estimators': 500}\n",
      " \n",
      "Model with rank 5\n",
      "Mean validation score:0.6269518873261402 (std:0.0018850534155997337)\n",
      "Parameters:{'learning_rate': 0.1, 'n_estimators': 100}\n",
      " \n"
     ]
    }
   ],
   "source": [
    "report(complete_search.cv_results_,5)"
   ]
  },
  {
   "cell_type": "code",
   "execution_count": 61,
   "metadata": {},
   "outputs": [
    {
     "data": {
      "text/plain": [
       "AdaBoostClassifier(base_estimator=DecisionTreeClassifier(class_weight='balanced',\n",
       "                                                         max_leaf_nodes=4),\n",
       "                   learning_rate=0.1, n_estimators=500)"
      ]
     },
     "execution_count": 61,
     "metadata": {},
     "output_type": "execute_result"
    }
   ],
   "source": [
    "complete_search.best_estimator_"
   ]
  },
  {
   "cell_type": "code",
   "execution_count": 62,
   "metadata": {},
   "outputs": [],
   "source": [
    "adb_best = complete_search.best_estimator_"
   ]
  },
  {
   "cell_type": "code",
   "execution_count": 64,
   "metadata": {},
   "outputs": [
    {
     "data": {
      "text/plain": [
       "AdaBoostClassifier(base_estimator=DecisionTreeClassifier(class_weight='balanced',\n",
       "                                                         max_leaf_nodes=4),\n",
       "                   learning_rate=0.1, n_estimators=500)"
      ]
     },
     "execution_count": 64,
     "metadata": {},
     "output_type": "execute_result"
    }
   ],
   "source": [
    "adb_best.fit(X_train,y_train)"
   ]
  },
  {
   "cell_type": "code",
   "execution_count": 65,
   "metadata": {},
   "outputs": [],
   "source": [
    "pred = adb_best.predict_proba(X_val)[:,1]"
   ]
  },
  {
   "cell_type": "code",
   "execution_count": 66,
   "metadata": {},
   "outputs": [
    {
     "data": {
      "text/plain": [
       "array([0, 1])"
      ]
     },
     "execution_count": 66,
     "metadata": {},
     "output_type": "execute_result"
    }
   ],
   "source": [
    "adb_best.classes_"
   ]
  },
  {
   "cell_type": "code",
   "execution_count": 67,
   "metadata": {},
   "outputs": [],
   "source": [
    "from sklearn.metrics import roc_auc_score"
   ]
  },
  {
   "cell_type": "code",
   "execution_count": 68,
   "metadata": {},
   "outputs": [
    {
     "data": {
      "text/plain": [
       "0.6353046826566439"
      ]
     },
     "execution_count": 68,
     "metadata": {},
     "output_type": "execute_result"
    }
   ],
   "source": [
    "roc_auc_score(y_val,pred)"
   ]
  },
  {
   "cell_type": "markdown",
   "metadata": {},
   "source": [
    "### XGBoost Classifier"
   ]
  },
  {
   "cell_type": "code",
   "execution_count": null,
   "metadata": {},
   "outputs": [],
   "source": [
    "params_dist = {\n",
    "    'max_depth' : [2,3,4,5,6],\n",
    "    'learning_rate' : [0.01,0.05,0.1,0.3,0.5],\n",
    "    'min_child_weight': [4,5,6],\n",
    "    'subsample': [i/10.0 for i in range(6,10)],\n",
    "    'colsample_bytree':[i/10.0 for i in range(6,10)],\n",
    "    \n",
    "}"
   ]
  },
  {
   "cell_type": "code",
   "execution_count": null,
   "metadata": {},
   "outputs": [],
   "source": []
  },
  {
   "cell_type": "code",
   "execution_count": null,
   "metadata": {},
   "outputs": [],
   "source": []
  },
  {
   "cell_type": "code",
   "execution_count": null,
   "metadata": {},
   "outputs": [],
   "source": []
  },
  {
   "cell_type": "code",
   "execution_count": null,
   "metadata": {},
   "outputs": [],
   "source": []
  },
  {
   "cell_type": "code",
   "execution_count": null,
   "metadata": {},
   "outputs": [],
   "source": []
  },
  {
   "cell_type": "code",
   "execution_count": null,
   "metadata": {},
   "outputs": [],
   "source": []
  },
  {
   "cell_type": "code",
   "execution_count": null,
   "metadata": {},
   "outputs": [],
   "source": []
  },
  {
   "cell_type": "code",
   "execution_count": null,
   "metadata": {},
   "outputs": [],
   "source": []
  },
  {
   "cell_type": "code",
   "execution_count": null,
   "metadata": {},
   "outputs": [],
   "source": []
  },
  {
   "cell_type": "code",
   "execution_count": null,
   "metadata": {},
   "outputs": [],
   "source": []
  },
  {
   "cell_type": "code",
   "execution_count": null,
   "metadata": {},
   "outputs": [],
   "source": []
  },
  {
   "cell_type": "code",
   "execution_count": null,
   "metadata": {},
   "outputs": [],
   "source": []
  },
  {
   "cell_type": "code",
   "execution_count": null,
   "metadata": {},
   "outputs": [],
   "source": []
  },
  {
   "cell_type": "code",
   "execution_count": null,
   "metadata": {},
   "outputs": [],
   "source": []
  },
  {
   "cell_type": "code",
   "execution_count": null,
   "metadata": {},
   "outputs": [],
   "source": []
  },
  {
   "cell_type": "code",
   "execution_count": null,
   "metadata": {},
   "outputs": [],
   "source": []
  },
  {
   "cell_type": "code",
   "execution_count": null,
   "metadata": {},
   "outputs": [],
   "source": []
  },
  {
   "cell_type": "code",
   "execution_count": null,
   "metadata": {},
   "outputs": [],
   "source": []
  }
 ],
 "metadata": {
  "kernelspec": {
   "display_name": "Python 3",
   "language": "python",
   "name": "python3"
  },
  "language_info": {
   "codemirror_mode": {
    "name": "ipython",
    "version": 3
   },
   "file_extension": ".py",
   "mimetype": "text/x-python",
   "name": "python",
   "nbconvert_exporter": "python",
   "pygments_lexer": "ipython3",
   "version": "3.7.6"
  }
 },
 "nbformat": 4,
 "nbformat_minor": 2
}
